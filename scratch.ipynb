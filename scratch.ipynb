{
 "cells": [
  {
   "cell_type": "code",
   "execution_count": 6,
   "id": "c3e77539-68f5-4b9d-8075-bb850dee826e",
   "metadata": {},
   "outputs": [],
   "source": [
    "import numpy as np"
   ]
  },
  {
   "cell_type": "code",
   "execution_count": 34,
   "id": "1596a2d5-d1b6-4973-9cae-343192e5a5da",
   "metadata": {},
   "outputs": [],
   "source": [
    "from one.utils import *\n",
    "from one.data.ucrdata import UcrDataReader"
   ]
  },
  {
   "cell_type": "code",
   "execution_count": 37,
   "id": "92f4b7bb-4a6e-40ff-ac3c-238d5448185d",
   "metadata": {},
   "outputs": [],
   "source": [
    "ROOT_DIR = \"./data/ucr/\"\n",
    "t = get_files_from_path(\"./data/ucr\")"
   ]
  },
  {
   "cell_type": "code",
   "execution_count": 38,
   "id": "c70c1cf8-b7a4-4eeb-9cbe-81373b73699a",
   "metadata": {},
   "outputs": [
    {
     "data": {
      "text/plain": [
       "['001_UCR_Anomaly_DISTORTED1sddb40_35000_52000_52620.txt',\n",
       " '002_UCR_Anomaly_DISTORTED2sddb40_35000_56600_56900.txt',\n",
       " '003_UCR_Anomaly_DISTORTED3sddb40_35000_46600_46900.txt',\n",
       " '004_UCR_Anomaly_DISTORTEDBIDMC1_2500_5400_5600.txt',\n",
       " '005_UCR_Anomaly_DISTORTEDCIMIS44AirTemperature1_4000_5391_5392.txt',\n",
       " '006_UCR_Anomaly_DISTORTEDCIMIS44AirTemperature2_4000_5703_5727.txt',\n",
       " '007_UCR_Anomaly_DISTORTEDCIMIS44AirTemperature3_4000_6520_6544.txt',\n",
       " '008_UCR_Anomaly_DISTORTEDCIMIS44AirTemperature4_4000_5549_5597.txt',\n",
       " '009_UCR_Anomaly_DISTORTEDCIMIS44AirTemperature5_4000_4852_4900.txt',\n",
       " '010_UCR_Anomaly_DISTORTEDCIMIS44AirTemperature6_4000_6006_6054.txt',\n",
       " '011_UCR_Anomaly_DISTORTEDECG1_10000_11800_12100.txt',\n",
       " '012_UCR_Anomaly_DISTORTEDECG2_15000_16000_16100.txt',\n",
       " '013_UCR_Anomaly_DISTORTEDECG3_15000_16000_16100.txt',\n",
       " '014_UCR_Anomaly_DISTORTEDECG3_8000_17000_17100.txt',\n",
       " '015_UCR_Anomaly_DISTORTEDECG4_5000_16800_17100.txt',\n",
       " '016_UCR_Anomaly_DISTORTEDECG4_5000_16900_17100.txt',\n",
       " '017_UCR_Anomaly_DISTORTEDECG4_5000_17000_17100.txt',\n",
       " '018_UCR_Anomaly_DISTORTEDECG4_8000_17000_17100.txt',\n",
       " '019_UCR_Anomaly_DISTORTEDGP711MarkerLFM5z1_5000_6168_6212.txt',\n",
       " '020_UCR_Anomaly_DISTORTEDGP711MarkerLFM5z2_5000_7175_7388.txt',\n",
       " '021_UCR_Anomaly_DISTORTEDGP711MarkerLFM5z3_5000_5948_5993.txt',\n",
       " '022_UCR_Anomaly_DISTORTEDGP711MarkerLFM5z4_4000_6527_6645.txt',\n",
       " '023_UCR_Anomaly_DISTORTEDGP711MarkerLFM5z5_5000_8612_8716.txt',\n",
       " '024_UCR_Anomaly_DISTORTEDInternalBleeding10_3200_4526_4556.txt',\n",
       " '025_UCR_Anomaly_DISTORTEDInternalBleeding14_2800_5607_5634.txt',\n",
       " '026_UCR_Anomaly_DISTORTEDInternalBleeding15_1700_5684_5854.txt',\n",
       " '027_UCR_Anomaly_DISTORTEDInternalBleeding16_1200_4187_4199.txt',\n",
       " '028_UCR_Anomaly_DISTORTEDInternalBleeding17_1600_3198_3309.txt',\n",
       " '029_UCR_Anomaly_DISTORTEDInternalBleeding18_2300_4485_4587.txt',\n",
       " '030_UCR_Anomaly_DISTORTEDInternalBleeding19_3000_4187_4197.txt',\n",
       " '031_UCR_Anomaly_DISTORTEDInternalBleeding20_2700_5759_5919.txt',\n",
       " '032_UCR_Anomaly_DISTORTEDInternalBleeding4_1000_4675_5033.txt',\n",
       " '033_UCR_Anomaly_DISTORTEDInternalBleeding5_4000_6200_6370.txt',\n",
       " '034_UCR_Anomaly_DISTORTEDInternalBleeding6_1500_3474_3629.txt',\n",
       " '035_UCR_Anomaly_DISTORTEDInternalBleeding8_2500_5865_5974.txt',\n",
       " '036_UCR_Anomaly_DISTORTEDInternalBleeding9_4200_6599_6681.txt',\n",
       " '037_UCR_Anomaly_DISTORTEDLab2Cmac011215EPG1_5000_17210_17260.txt',\n",
       " '038_UCR_Anomaly_DISTORTEDLab2Cmac011215EPG2_5000_27862_27932.txt',\n",
       " '039_UCR_Anomaly_DISTORTEDLab2Cmac011215EPG3_5000_16390_16420.txt',\n",
       " '040_UCR_Anomaly_DISTORTEDLab2Cmac011215EPG4_6000_17390_17520.txt',\n",
       " '041_UCR_Anomaly_DISTORTEDLab2Cmac011215EPG5_7000_17390_17520.txt',\n",
       " '042_UCR_Anomaly_DISTORTEDLab2Cmac011215EPG6_7000_12190_12420.txt',\n",
       " '043_UCR_Anomaly_DISTORTEDMesoplodonDensirostris_10000_19280_19440.txt',\n",
       " '044_UCR_Anomaly_DISTORTEDPowerDemand1_9000_18485_18821.txt',\n",
       " '045_UCR_Anomaly_DISTORTEDPowerDemand2_14000_23357_23717.txt',\n",
       " '046_UCR_Anomaly_DISTORTEDPowerDemand3_16000_23405_23477.txt',\n",
       " '047_UCR_Anomaly_DISTORTEDPowerDemand4_18000_24005_24077.txt',\n",
       " '048_UCR_Anomaly_DISTORTEDTkeepFifthMARS_3500_5988_6085.txt',\n",
       " '049_UCR_Anomaly_DISTORTEDTkeepFirstMARS_3500_5365_5380.txt',\n",
       " '050_UCR_Anomaly_DISTORTEDTkeepForthMARS_3500_5988_6085.txt',\n",
       " '051_UCR_Anomaly_DISTORTEDTkeepSecondMARS_3500_9330_9340.txt',\n",
       " '052_UCR_Anomaly_DISTORTEDTkeepThirdMARS_3500_4711_4809.txt',\n",
       " '053_UCR_Anomaly_DISTORTEDWalkingAceleration1_1500_2764_2995.txt',\n",
       " '054_UCR_Anomaly_DISTORTEDWalkingAceleration5_2700_5920_5979.txt',\n",
       " '055_UCR_Anomaly_DISTORTEDapneaecg2_10000_20950_21100.txt',\n",
       " '056_UCR_Anomaly_DISTORTEDapneaecg3_5000_11111_11211.txt',\n",
       " '057_UCR_Anomaly_DISTORTEDapneaecg4_6000_16000_16100.txt',\n",
       " '058_UCR_Anomaly_DISTORTEDapneaecg_10000_12240_12308.txt',\n",
       " '059_UCR_Anomaly_DISTORTEDgait1_20000_38500_38800.txt',\n",
       " '060_UCR_Anomaly_DISTORTEDgait2_22000_46500_46800.txt',\n",
       " '061_UCR_Anomaly_DISTORTEDgait3_24500_59900_60500.txt',\n",
       " '062_UCR_Anomaly_DISTORTEDgaitHunt1_18500_33070_33180.txt',\n",
       " '063_UCR_Anomaly_DISTORTEDgaitHunt2_18500_31200_31850.txt',\n",
       " '064_UCR_Anomaly_DISTORTEDgaitHunt3_23400_38400_39200.txt',\n",
       " '065_UCR_Anomaly_DISTORTEDinsectEPG1_3000_7000_7030.txt',\n",
       " '066_UCR_Anomaly_DISTORTEDinsectEPG2_3700_8000_8025.txt',\n",
       " '067_UCR_Anomaly_DISTORTEDinsectEPG3_5200_7000_7050.txt',\n",
       " '068_UCR_Anomaly_DISTORTEDinsectEPG4_1300_6508_6558.txt',\n",
       " '069_UCR_Anomaly_DISTORTEDinsectEPG5_3200_8500_8501.txt',\n",
       " '070_UCR_Anomaly_DISTORTEDltstdbs30791AI_17555_52600_52800.txt',\n",
       " '071_UCR_Anomaly_DISTORTEDltstdbs30791AS_23000_52600_52800.txt',\n",
       " '072_UCR_Anomaly_DISTORTEDltstdbs30791ES_20000_52600_52800.txt',\n",
       " '073_UCR_Anomaly_DISTORTEDpark3m_60000_72150_72495.txt',\n",
       " '074_UCR_Anomaly_DISTORTEDqtdbSel1005V_4000_12400_12800.txt',\n",
       " '075_UCR_Anomaly_DISTORTEDqtdbSel100MLII_4000_13400_13800.txt',\n",
       " '076_UCR_Anomaly_DISTORTEDresperation10_48000_130700_131880.txt',\n",
       " '077_UCR_Anomaly_DISTORTEDresperation11_58000_110800_110801.txt',\n",
       " '078_UCR_Anomaly_DISTORTEDresperation1_100000_110260_110412.txt',\n",
       " '079_UCR_Anomaly_DISTORTEDresperation2_30000_168250_168250.txt',\n",
       " '080_UCR_Anomaly_DISTORTEDresperation2_30000_168250_168251.txt',\n",
       " '081_UCR_Anomaly_DISTORTEDresperation3_45000_158250_158251.txt',\n",
       " '082_UCR_Anomaly_DISTORTEDresperation4_70000_128430_128431.txt',\n",
       " '083_UCR_Anomaly_DISTORTEDresperation9_38000_143411_143511.txt',\n",
       " '084_UCR_Anomaly_DISTORTEDs20101mML2_12000_35774_35874.txt',\n",
       " '085_UCR_Anomaly_DISTORTEDs20101m_10000_35774_35874.txt',\n",
       " '086_UCR_Anomaly_DISTORTEDsddb49_20000_67950_68200.txt',\n",
       " '087_UCR_Anomaly_DISTORTEDsel840mECG1_17000_51370_51740.txt',\n",
       " '088_UCR_Anomaly_DISTORTEDsel840mECG2_20000_49370_49740.txt',\n",
       " '089_UCR_Anomaly_DISTORTEDtiltAPB1_100000_114283_114350.txt',\n",
       " '090_UCR_Anomaly_DISTORTEDtiltAPB2_50000_124159_124985.txt',\n",
       " '091_UCR_Anomaly_DISTORTEDtiltAPB3_40000_114000_114370.txt',\n",
       " '092_UCR_Anomaly_DISTORTEDtiltAPB4_20000_67995_67996.txt',\n",
       " '093_UCR_Anomaly_NOISE1sddb40_35000_52000_52620.txt',\n",
       " '094_UCR_Anomaly_NOISEBIDMC1_2500_5400_5600.txt',\n",
       " '095_UCR_Anomaly_NOISECIMIS44AirTemperature4_4000_5549_5597.txt',\n",
       " '096_UCR_Anomaly_NOISEECG4_5000_16900_17100.txt',\n",
       " '097_UCR_Anomaly_NOISEGP711MarkerLFM5z3_5000_5948_5993.txt',\n",
       " '098_UCR_Anomaly_NOISEInternalBleeding16_1200_4187_4199.txt',\n",
       " '099_UCR_Anomaly_NOISEInternalBleeding6_1500_3474_3629.txt',\n",
       " '100_UCR_Anomaly_NOISELab2Cmac011215EPG1_5000_17210_17260.txt',\n",
       " '101_UCR_Anomaly_NOISELab2Cmac011215EPG4_6000_17390_17520.txt',\n",
       " '102_UCR_Anomaly_NOISEMesoplodonDensirostris_10000_19280_19440.txt',\n",
       " '103_UCR_Anomaly_NOISETkeepThirdMARS_3500_4711_4809.txt',\n",
       " '104_UCR_Anomaly_NOISEapneaecg4_6000_16000_16100.txt',\n",
       " '105_UCR_Anomaly_NOISEgait3_24500_59900_60500.txt',\n",
       " '106_UCR_Anomaly_NOISEgaitHunt2_18500_31200_31850.txt',\n",
       " '107_UCR_Anomaly_NOISEinsectEPG3_5200_7000_7050.txt',\n",
       " '108_UCR_Anomaly_NOISEresperation2_30000_168250_168250.txt',\n",
       " '109_UCR_Anomaly_1sddb40_35000_52000_52620.txt',\n",
       " '110_UCR_Anomaly_2sddb40_35000_56600_56900.txt',\n",
       " '111_UCR_Anomaly_3sddb40_35000_46600_46900.txt',\n",
       " '112_UCR_Anomaly_BIDMC1_2500_5400_5600.txt',\n",
       " '113_UCR_Anomaly_CIMIS44AirTemperature1_4000_5391_5392.txt',\n",
       " '114_UCR_Anomaly_CIMIS44AirTemperature2_4000_5703_5727.txt',\n",
       " '115_UCR_Anomaly_CIMIS44AirTemperature3_4000_6520_6544.txt',\n",
       " '116_UCR_Anomaly_CIMIS44AirTemperature4_4000_5549_5597.txt',\n",
       " '117_UCR_Anomaly_CIMIS44AirTemperature5_4000_4852_4900.txt',\n",
       " '118_UCR_Anomaly_CIMIS44AirTemperature6_4000_6006_6054.txt',\n",
       " '119_UCR_Anomaly_ECG1_10000_11800_12100.txt',\n",
       " '120_UCR_Anomaly_ECG2_15000_16000_16100.txt',\n",
       " '121_UCR_Anomaly_ECG3_15000_16000_16100.txt',\n",
       " '122_UCR_Anomaly_ECG3_8000_17000_17100.txt',\n",
       " '123_UCR_Anomaly_ECG4_5000_16800_17100.txt',\n",
       " '124_UCR_Anomaly_ECG4_5000_16900_17100.txt',\n",
       " '125_UCR_Anomaly_ECG4_5000_17000_17100.txt',\n",
       " '126_UCR_Anomaly_ECG4_8000_17000_17100.txt',\n",
       " '127_UCR_Anomaly_GP711MarkerLFM5z1_5000_6168_6212.txt',\n",
       " '128_UCR_Anomaly_GP711MarkerLFM5z2_5000_7175_7388.txt',\n",
       " '129_UCR_Anomaly_GP711MarkerLFM5z3_5000_5948_5993.txt',\n",
       " '130_UCR_Anomaly_GP711MarkerLFM5z4_4000_6527_6645.txt',\n",
       " '131_UCR_Anomaly_GP711MarkerLFM5z5_5000_8612_8716.txt',\n",
       " '132_UCR_Anomaly_InternalBleeding10_3200_4526_4556.txt',\n",
       " '133_UCR_Anomaly_InternalBleeding14_2800_5607_5634.txt',\n",
       " '134_UCR_Anomaly_InternalBleeding15_1700_5684_5854.txt',\n",
       " '135_UCR_Anomaly_InternalBleeding16_1200_4187_4199.txt',\n",
       " '136_UCR_Anomaly_InternalBleeding17_1600_3198_3309.txt',\n",
       " '137_UCR_Anomaly_InternalBleeding18_2300_4485_4587.txt',\n",
       " '138_UCR_Anomaly_InternalBleeding19_3000_4187_4197.txt',\n",
       " '139_UCR_Anomaly_InternalBleeding20_2700_5759_5919.txt',\n",
       " '140_UCR_Anomaly_InternalBleeding4_1000_4675_5033.txt',\n",
       " '141_UCR_Anomaly_InternalBleeding5_4000_6200_6370.txt',\n",
       " '142_UCR_Anomaly_InternalBleeding6_1500_3474_3629.txt',\n",
       " '143_UCR_Anomaly_InternalBleeding8_2500_5865_5974.txt',\n",
       " '144_UCR_Anomaly_InternalBleeding9_4200_6599_6681.txt',\n",
       " '145_UCR_Anomaly_Lab2Cmac011215EPG1_5000_17210_17260.txt',\n",
       " '146_UCR_Anomaly_Lab2Cmac011215EPG2_5000_27862_27932.txt',\n",
       " '147_UCR_Anomaly_Lab2Cmac011215EPG3_5000_16390_16420.txt',\n",
       " '148_UCR_Anomaly_Lab2Cmac011215EPG4_6000_17390_17520.txt',\n",
       " '149_UCR_Anomaly_Lab2Cmac011215EPG5_7000_17390_17520.txt',\n",
       " '150_UCR_Anomaly_Lab2Cmac011215EPG6_7000_12190_12420.txt',\n",
       " '151_UCR_Anomaly_MesoplodonDensirostris_10000_19280_19440.txt',\n",
       " '152_UCR_Anomaly_PowerDemand1_9000_18485_18821.txt',\n",
       " '153_UCR_Anomaly_PowerDemand2_14000_23357_23717.txt',\n",
       " '154_UCR_Anomaly_PowerDemand3_16000_23405_23477.txt',\n",
       " '155_UCR_Anomaly_PowerDemand4_18000_24005_24077.txt',\n",
       " '156_UCR_Anomaly_TkeepFifthMARS_3500_5988_6085.txt',\n",
       " '157_UCR_Anomaly_TkeepFirstMARS_3500_5365_5380.txt',\n",
       " '158_UCR_Anomaly_TkeepForthMARS_3500_5988_6085.txt',\n",
       " '159_UCR_Anomaly_TkeepSecondMARS_3500_9330_9340.txt',\n",
       " '160_UCR_Anomaly_TkeepThirdMARS_3500_4711_4809.txt',\n",
       " '161_UCR_Anomaly_WalkingAceleration1_1500_2764_2995.txt',\n",
       " '162_UCR_Anomaly_WalkingAceleration5_2700_5920_5979.txt',\n",
       " '163_UCR_Anomaly_apneaecg2_10000_20950_21100.txt',\n",
       " '164_UCR_Anomaly_apneaecg3_5000_11111_11211.txt',\n",
       " '165_UCR_Anomaly_apneaecg4_6000_16000_16100.txt',\n",
       " '166_UCR_Anomaly_apneaecg_10000_12240_12308.txt',\n",
       " '167_UCR_Anomaly_gait1_20000_38500_38800.txt',\n",
       " '168_UCR_Anomaly_gait2_22000_46500_46800.txt',\n",
       " '169_UCR_Anomaly_gait3_24500_59900_60500.txt',\n",
       " '170_UCR_Anomaly_gaitHunt1_18500_33070_33180.txt',\n",
       " '171_UCR_Anomaly_gaitHunt2_18500_31200_31850.txt',\n",
       " '172_UCR_Anomaly_gaitHunt3_23400_38400_39200.txt',\n",
       " '173_UCR_Anomaly_insectEPG1_3000_7000_7030.txt',\n",
       " '174_UCR_Anomaly_insectEPG2_3700_8000_8025.txt',\n",
       " '175_UCR_Anomaly_insectEPG3_5200_7000_7050.txt',\n",
       " '176_UCR_Anomaly_insectEPG4_1300_6508_6558.txt',\n",
       " '177_UCR_Anomaly_insectEPG5_3200_8500_8501.txt',\n",
       " '178_UCR_Anomaly_ltstdbs30791AI_17555_52600_52800.txt',\n",
       " '179_UCR_Anomaly_ltstdbs30791AS_23000_52600_52800.txt',\n",
       " '180_UCR_Anomaly_ltstdbs30791ES_20000_52600_52800.txt',\n",
       " '181_UCR_Anomaly_park3m_60000_72150_72495.txt',\n",
       " '182_UCR_Anomaly_qtdbSel1005V_4000_12400_12800.txt',\n",
       " '183_UCR_Anomaly_qtdbSel100MLII_4000_13400_13800.txt',\n",
       " '184_UCR_Anomaly_resperation10_48000_130700_131880.txt',\n",
       " '185_UCR_Anomaly_resperation11_58000_110800_110801.txt',\n",
       " '186_UCR_Anomaly_resperation1_100000_110260_110412.txt',\n",
       " '187_UCR_Anomaly_resperation2_30000_168250_168250.txt',\n",
       " '188_UCR_Anomaly_resperation2_30000_168250_168251.txt',\n",
       " '189_UCR_Anomaly_resperation3_45000_158250_158251.txt',\n",
       " '190_UCR_Anomaly_resperation4_70000_128430_128431.txt',\n",
       " '191_UCR_Anomaly_resperation9_38000_143411_143511.txt',\n",
       " '192_UCR_Anomaly_s20101mML2_12000_35774_35874.txt',\n",
       " '193_UCR_Anomaly_s20101m_10000_35774_35874.txt',\n",
       " '194_UCR_Anomaly_sddb49_20000_67950_68200.txt',\n",
       " '195_UCR_Anomaly_sel840mECG1_17000_51370_51740.txt',\n",
       " '196_UCR_Anomaly_sel840mECG2_20000_49370_49740.txt',\n",
       " '197_UCR_Anomaly_tiltAPB1_100000_114283_114350.txt',\n",
       " '198_UCR_Anomaly_tiltAPB2_50000_124159_124985.txt',\n",
       " '199_UCR_Anomaly_tiltAPB3_40000_114000_114370.txt',\n",
       " '200_UCR_Anomaly_tiltAPB4_20000_67995_67996.txt',\n",
       " '201_UCR_Anomaly_CHARISfive_10000_17001_17016.txt',\n",
       " '202_UCR_Anomaly_CHARISfive_10411_10998_11028.txt',\n",
       " '203_UCR_Anomaly_CHARISfive_10500_10995_11028.txt',\n",
       " '204_UCR_Anomaly_CHARISfive_12412_15000_15070.txt',\n",
       " '205_UCR_Anomaly_CHARISfive_9812_28995_29085.txt',\n",
       " '206_UCR_Anomaly_CHARISten_25130_29080_29140.txt',\n",
       " '207_UCR_Anomaly_CHARISten_3165_26929_26989.txt',\n",
       " '208_UCR_Anomaly_CHARISten_5130_27929_27989.txt',\n",
       " '209_UCR_Anomaly_Fantasia_19000_26970_27270.txt',\n",
       " '210_UCR_Anomaly_Italianpowerdemand_36123_74900_74996.txt',\n",
       " '211_UCR_Anomaly_Italianpowerdemand_38113_39240_39336.txt',\n",
       " '212_UCR_Anomaly_Italianpowerdemand_8913_29480_29504.txt',\n",
       " '213_UCR_Anomaly_STAFFIIIDatabase_33211_126920_127370.txt',\n",
       " '214_UCR_Anomaly_STAFFIIIDatabase_34211_125720_126370.txt',\n",
       " '215_UCR_Anomaly_STAFFIIIDatabase_36276_106720_107370.txt',\n",
       " '216_UCR_Anomaly_STAFFIIIDatabase_37216_160720_161370.txt',\n",
       " '217_UCR_Anomaly_STAFFIIIDatabase_38211_150720_151370.txt',\n",
       " '218_UCR_Anomaly_STAFFIIIDatabase_41117_210720_211370.txt',\n",
       " '219_UCR_Anomaly_STAFFIIIDatabase_41612_64632_64852.txt',\n",
       " '220_UCR_Anomaly_STAFFIIIDatabase_43217_250720_251370.txt',\n",
       " '221_UCR_Anomaly_STAFFIIIDatabase_45616_163632_164852.txt',\n",
       " '222_UCR_Anomaly_mit14046longtermecg_56123_91200_91700.txt',\n",
       " '223_UCR_Anomaly_mit14046longtermecg_74123_131200_131700.txt',\n",
       " '224_UCR_Anomaly_mit14046longtermecg_76123_191200_191700.txt',\n",
       " '225_UCR_Anomaly_mit14046longtermecg_81214_143000_143300.txt',\n",
       " '226_UCR_Anomaly_mit14046longtermecg_96123_123000_123300.txt',\n",
       " '227_UCR_Anomaly_mit14134longtermecg_11231_29000_29100.txt',\n",
       " '228_UCR_Anomaly_mit14134longtermecg_11361_47830_47850.txt',\n",
       " '229_UCR_Anomaly_mit14134longtermecg_16363_57960_57970.txt',\n",
       " '230_UCR_Anomaly_mit14134longtermecg_19363_19510_19610.txt',\n",
       " '231_UCR_Anomaly_mit14134longtermecg_8763_47530_47790.txt',\n",
       " '232_UCR_Anomaly_mit14134longtermecg_8763_57530_57790.txt',\n",
       " '233_UCR_Anomaly_mit14157longtermecg_18913_24500_24501.txt',\n",
       " '234_UCR_Anomaly_mit14157longtermecg_18913_24600_24601.txt',\n",
       " '235_UCR_Anomaly_mit14157longtermecg_18913_75450_75451.txt',\n",
       " '236_UCR_Anomaly_mit14157longtermecg_19313_46350_46390.txt',\n",
       " '237_UCR_Anomaly_mit14157longtermecg_19313_89560_90370.txt',\n",
       " '238_UCR_Anomaly_mit14157longtermecg_21311_72600_72780.txt',\n",
       " '239_UCR_Anomaly_taichidbS0715Master_190037_593450_593514.txt',\n",
       " '240_UCR_Anomaly_taichidbS0715Master_240030_884100_884200.txt',\n",
       " '241_UCR_Anomaly_taichidbS0715Master_250000_837400_839100.txt',\n",
       " '242_UCR_Anomaly_tilt12744mtable_100000_104630_104890.txt',\n",
       " '243_UCR_Anomaly_tilt12744mtable_100000_203355_203400.txt',\n",
       " '244_UCR_Anomaly_tilt12754table_100013_104630_104890.txt',\n",
       " '245_UCR_Anomaly_tilt12754table_100211_270800_271070.txt',\n",
       " '246_UCR_Anomaly_tilt12755mtable_100211_270800_271070.txt',\n",
       " '247_UCR_Anomaly_tilt12755mtable_50211_121900_121980.txt',\n",
       " '248_UCR_Anomaly_weallwalk_2000_4702_4707.txt',\n",
       " '249_UCR_Anomaly_weallwalk_2753_8285_8315.txt',\n",
       " '250_UCR_Anomaly_weallwalk_2951_7290_7296.txt']"
      ]
     },
     "execution_count": 38,
     "metadata": {},
     "output_type": "execute_result"
    }
   ],
   "source": [
    "d = UcrDataReader()\n"
   ]
  },
  {
   "cell_type": "code",
   "execution_count": 25,
   "id": "6ef9f41f-9a8d-46c7-a319-18e52c7f1e0b",
   "metadata": {},
   "outputs": [
    {
     "data": {
      "text/plain": [
       "['001', 'UCR', 'Anomaly', 'DISTORTED1sddb40', '35000', '52000', '52620']"
      ]
     },
     "execution_count": 25,
     "metadata": {},
     "output_type": "execute_result"
    }
   ],
   "source": []
  },
  {
   "cell_type": "code",
   "execution_count": 13,
   "id": "561944f3-9941-45e0-aec0-67c88e58bfa8",
   "metadata": {},
   "outputs": [],
   "source": []
  },
  {
   "cell_type": "code",
   "execution_count": 14,
   "id": "540f5668-b829-48bc-9982-6d4ab25d60a9",
   "metadata": {},
   "outputs": [
    {
     "data": {
      "text/plain": [
       "79795"
      ]
     },
     "execution_count": 14,
     "metadata": {},
     "output_type": "execute_result"
    }
   ],
   "source": []
  },
  {
   "cell_type": "code",
   "execution_count": null,
   "id": "676c0a4c-eae5-4e97-ab3f-a11b66e60f2a",
   "metadata": {},
   "outputs": [],
   "source": []
  },
  {
   "cell_type": "code",
   "execution_count": 26,
   "id": "7860b0bf-53e9-4ff1-8611-633572676d85",
   "metadata": {},
   "outputs": [
    {
     "data": {
      "text/plain": [
       "(79795,)"
      ]
     },
     "execution_count": 26,
     "metadata": {},
     "output_type": "execute_result"
    }
   ],
   "source": []
  },
  {
   "cell_type": "code",
   "execution_count": 30,
   "id": "00dc951f-469d-45c8-92e8-53503c037ea5",
   "metadata": {},
   "outputs": [],
   "source": [
    "lab = np.zeros(arr.size)\n",
    "lab[52000-1: 52620] = 1"
   ]
  },
  {
   "cell_type": "code",
   "execution_count": 32,
   "id": "bbb15748-e422-4e03-950a-131b25cff366",
   "metadata": {},
   "outputs": [
    {
     "data": {
      "text/plain": [
       "1.0"
      ]
     },
     "execution_count": 32,
     "metadata": {},
     "output_type": "execute_result"
    }
   ],
   "source": [
    "lab[52020]"
   ]
  },
  {
   "cell_type": "code",
   "execution_count": 33,
   "id": "9706beda-a7b7-448e-b3fc-17df7b3e1d54",
   "metadata": {},
   "outputs": [
    {
     "data": {
      "text/plain": [
       "'001_UCR_Anomaly_DISTORTED1sddb40_35000_52000_52620.txt'"
      ]
     },
     "execution_count": 33,
     "metadata": {},
     "output_type": "execute_result"
    }
   ],
   "source": [
    "t"
   ]
  },
  {
   "cell_type": "code",
   "execution_count": null,
   "id": "38aa177e-e721-4dc3-a595-8e9e23585a70",
   "metadata": {},
   "outputs": [],
   "source": []
  }
 ],
 "metadata": {
  "kernelspec": {
   "display_name": "Python 3 (ipykernel)",
   "language": "python",
   "name": "python3"
  },
  "language_info": {
   "codemirror_mode": {
    "name": "ipython",
    "version": 3
   },
   "file_extension": ".py",
   "mimetype": "text/x-python",
   "name": "python",
   "nbconvert_exporter": "python",
   "pygments_lexer": "ipython3",
   "version": "3.10.4"
  }
 },
 "nbformat": 4,
 "nbformat_minor": 5
}
