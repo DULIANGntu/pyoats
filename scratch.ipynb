{
 "cells": [
  {
   "cell_type": "code",
   "execution_count": null,
   "id": "c3e77539-68f5-4b9d-8075-bb850dee826e",
   "metadata": {},
   "outputs": [],
   "source": [
    "import numpy as np\n",
    "import matplotlib.pyplot as plt"
   ]
  },
  {
   "cell_type": "code",
   "execution_count": null,
   "id": "c32c14f1-c881-4a28-aa7e-448b535270d9",
   "metadata": {},
   "outputs": [],
   "source": [
    "%load_ext autoreload\n",
    "%autoreload 2\n"
   ]
  },
  {
   "cell_type": "code",
   "execution_count": null,
   "id": "ba5f8825-b643-4354-8e9b-0d6160f6d813",
   "metadata": {},
   "outputs": [],
   "source": [
    "%matplotlib inline"
   ]
  },
  {
   "cell_type": "code",
   "execution_count": null,
   "id": "64f294b9-bedf-4959-b22b-9d5faef68324",
   "metadata": {},
   "outputs": [],
   "source": [
    "plt.rcParams[\"figure.figsize\"] = 40,10\n",
    "plt.rcParams[\"font.size\"] = 15"
   ]
  },
  {
   "cell_type": "code",
   "execution_count": null,
   "id": "1596a2d5-d1b6-4973-9cae-343192e5a5da",
   "metadata": {},
   "outputs": [],
   "source": [
    "from one.utils import *\n",
    "from one.data.ucrdata import UcrDataReader"
   ]
  },
  {
   "cell_type": "code",
   "execution_count": null,
   "id": "92f4b7bb-4a6e-40ff-ac3c-238d5448185d",
   "metadata": {},
   "outputs": [],
   "source": [
    "ROOT_DIR = \"./data/ucr/\"\n",
    "t = get_files_from_path(\"./data/ucr\")"
   ]
  },
  {
   "cell_type": "code",
   "execution_count": null,
   "id": "c70c1cf8-b7a4-4eeb-9cbe-81373b73699a",
   "metadata": {},
   "outputs": [],
   "source": [
    "d = UcrDataReader()\n",
    "test = d(ROOT_DIR+t[0])"
   ]
  },
  {
   "cell_type": "code",
   "execution_count": null,
   "id": "6ef9f41f-9a8d-46c7-a319-18e52c7f1e0b",
   "metadata": {},
   "outputs": [],
   "source": [
    "p = graph_data(test.series, test.labels, test.train_len)"
   ]
  },
  {
   "cell_type": "code",
   "execution_count": null,
   "id": "79a002f3-f8f2-419d-a47b-cc6afb24029a",
   "metadata": {},
   "outputs": [],
   "source": []
  },
  {
   "cell_type": "markdown",
   "id": "84f84434-02c9-4ee3-b71a-b8b0a36ac1b7",
   "metadata": {},
   "source": [
    "# Experiment"
   ]
  },
  {
   "cell_type": "code",
   "execution_count": null,
   "id": "95cc4bb3-7536-4235-a66f-8525040738f0",
   "metadata": {},
   "outputs": [],
   "source": [
    "import os \n",
    "\n",
    "from one.utils import *\n",
    "from one.models import *\n",
    "from one.data.ucrdata import UcrDataReader"
   ]
  },
  {
   "cell_type": "code",
   "execution_count": null,
   "id": "2ab4d7c6-eb4d-4920-ac43-26fb412c2c42",
   "metadata": {},
   "outputs": [],
   "source": [
    "ROOT_DIR = \"./data/ucr/\"\n",
    "SAVE_DIR = \"./results/\"\n",
    "\n",
    "SIMPLE_MODELS = [LightGBMModel, RandomForestModel, RegressionModel]\n",
    "DL_MODELS = [NBEATSModel, NHiTSModel, TCNModel, TFTModel, TransformerModel]\n",
    "RNN_MODELS = [\"RNN\", \"LSTM\", \"GRU\"]\n",
    "\n",
    "files = get_files_from_path(ROOT_DIR)"
   ]
  },
  {
   "cell_type": "code",
   "execution_count": null,
   "id": "f03567a9-b080-4a7d-8bbd-3bf3ffe8a971",
   "metadata": {},
   "outputs": [],
   "source": [
    "def run_model(m, data, fdir):\n",
    "        os.makedirs(fdir, exist_ok=True)\n",
    "        \n",
    "        train_data, train_label = data.train\n",
    "        test_data, test_label = data.test\n",
    "        \n",
    "        m.hyperopt_ws(train_data, test_data, 30)\n",
    "\n",
    "        model_test_data, model_test_label = data.get_test_with_window(m.window)\n",
    "        \n",
    "        m.hyperopt_model(train_data, model_test_data, 50)\n",
    "        m.fit(train_data)\n",
    "\n",
    "        score, _, preds = m.get_scores(model_test_data)\n",
    "\n",
    "        save_model_output(score, m, f\"{fdir}{m.model_name}_scores.txt\")\n",
    "        save_model_output(preds, m, f\"{fdir}{m.model_name}_preds.txt\")"
   ]
  },
  {
   "cell_type": "code",
   "execution_count": null,
   "id": "67fbd494-1d8f-4222-a9de-da6b2adb9911",
   "metadata": {},
   "outputs": [],
   "source": [
    "reader = UcrDataReader()\n",
    "\n",
    "for file in files:\n",
    "    data_name = file.split(\".\")[0]\n",
    "    data = reader(ROOT_DIR+file)\n",
    "    fdir = f\"{SAVE_DIR}{data_name}/\"\n",
    "    \n",
    "    for model in MODELS:\n",
    "        m = model()\n",
    "        run_model(m, data, fdir)\n",
    "        \n",
    "    for model in DL_Models:\n",
    "        m = model(use_gpu=True, val_split=0.1)\n",
    "        run_model(m, data, fdir)\n",
    "\n",
    "    for model in RNN_MODELS:\n",
    "        m = RNNModel(use_gpu=True, rnn_model=model, val_split=0.1)\n",
    "        run_model(m, data, fdir)\n",
    "        \n",
    "        \n",
    "\n",
    "        "
   ]
  },
  {
   "cell_type": "code",
   "execution_count": null,
   "id": "52b17668-d63f-47dd-b600-411db805995f",
   "metadata": {},
   "outputs": [],
   "source": [
    "m.__class__(100)"
   ]
  },
  {
   "cell_type": "code",
   "execution_count": null,
   "id": "235b70e9-5a31-4147-bee6-f3ffc25bee8a",
   "metadata": {},
   "outputs": [],
   "source": [
    "m"
   ]
  },
  {
   "cell_type": "code",
   "execution_count": null,
   "id": "1ed90c18-2fa0-4bcf-8700-a74513ef4583",
   "metadata": {},
   "outputs": [],
   "source": [
    "from one.models.predictive.nbeats import NBEATSModel"
   ]
  },
  {
   "cell_type": "code",
   "execution_count": null,
   "id": "d56ae043-5298-459c-a398-3c2965d217a5",
   "metadata": {},
   "outputs": [],
   "source": [
    "def hypertune(params: dict):\n",
    "    w = int(params.get(\"w\"))\n",
    "    s = int(params.get(\"s\"))\n",
    "    \n",
    "    tr_data, tr_label = test.train\n",
    "    test_data, test_label = test.get_test_with_window(w)\n",
    "    \n",
    "    model = NBEATSModel(w, s, True, val_split=max(0.10, (w+s)/len(tr_data)+0.01) )\n",
    "    model.fit(tr_data)\n",
    "    score, res, _ = model.get_scores(test_data)\n",
    "    # return np.average(acf(score, fft=False, nlags=5)).item()\n",
    "    return np.sum(res**2)\n"
   ]
  },
  {
   "cell_type": "code",
   "execution_count": null,
   "id": "27500301-695c-4da8-a6ae-3d37d1566474",
   "metadata": {
    "tags": []
   },
   "outputs": [],
   "source": [
    "from hyperopt import fmin, tpe, hp\n",
    "from statsmodels.tsa.stattools import acf\n",
    "\n",
    "\n",
    "best = fmin(hypertune,\n",
    "    space= {'w': hp.quniform(\"w\", 20, 0.2*len(test.train[0]), 5), \n",
    "            \"s\": hp.quniform(\"s\", 1, 20, 1)},\n",
    "    algo=tpe.suggest,\n",
    "    max_evals=20)"
   ]
  },
  {
   "cell_type": "code",
   "execution_count": null,
   "id": "ed5449ba-beaf-4c13-99c8-3c74553e92d4",
   "metadata": {},
   "outputs": [],
   "source": [
    "best"
   ]
  },
  {
   "cell_type": "code",
   "execution_count": null,
   "id": "c4d57782-450f-4527-bfe4-98456adaa98a",
   "metadata": {},
   "outputs": [],
   "source": [
    "w = 160\n",
    "s = 2"
   ]
  },
  {
   "cell_type": "code",
   "execution_count": null,
   "id": "12a74c77-4608-450b-bd04-4810e8995a0d",
   "metadata": {},
   "outputs": [],
   "source": [
    "tr_data, tr_label = test.train\n",
    "test_data, test_label = test.get_test_with_window(w)"
   ]
  },
  {
   "cell_type": "code",
   "execution_count": null,
   "id": "3c10732c-5e11-4553-a7cc-18685708bbd5",
   "metadata": {},
   "outputs": [],
   "source": [
    "model = NBEATSModel(w, s, True, val_split=0.15)"
   ]
  },
  {
   "cell_type": "code",
   "execution_count": null,
   "id": "e8522bb9-71fb-44fe-a064-da4b99c7530a",
   "metadata": {},
   "outputs": [],
   "source": [
    "model.fit(tr_data)"
   ]
  },
  {
   "cell_type": "code",
   "execution_count": null,
   "id": "03b65754-7a8c-4df5-bb9e-1d8b216448a1",
   "metadata": {},
   "outputs": [],
   "source": [
    "score, res, preds = model.get_scores(test_data)"
   ]
  },
  {
   "cell_type": "code",
   "execution_count": null,
   "id": "0d949897-a84f-45ef-aea1-e7db55e2eaa6",
   "metadata": {},
   "outputs": [],
   "source": [
    "f, (a,b) = plt.subplots(nrows=2)\n",
    "a.plot(score)\n",
    "a.plot(test.test[1])\n",
    "b.plot(test.test[0])"
   ]
  },
  {
   "cell_type": "code",
   "execution_count": null,
   "id": "7faacf2e-a338-457b-841d-1cde12ebdee9",
   "metadata": {},
   "outputs": [],
   "source": [
    "f, (a,b) = plt.subplots(nrows=2)\n",
    "a.plot(preds)\n",
    "b.plot(test.test[0])"
   ]
  },
  {
   "cell_type": "code",
   "execution_count": null,
   "id": "9aef2c58-f80c-4bac-a10d-a5b360bd4054",
   "metadata": {},
   "outputs": [],
   "source": [
    "import seaborn as sns\n",
    "\n",
    "sns.distplot(score)"
   ]
  },
  {
   "cell_type": "markdown",
   "id": "706f69b5-e541-4469-9b53-bcdf1f5c3c2d",
   "metadata": {},
   "source": [
    "# Scratch"
   ]
  },
  {
   "cell_type": "code",
   "execution_count": null,
   "id": "fefcc9ca-84cc-4f25-9fdd-93f3207d0299",
   "metadata": {},
   "outputs": [],
   "source": [
    "from one.models import RNNModel"
   ]
  },
  {
   "cell_type": "code",
   "execution_count": null,
   "id": "21d93f44-e93d-49dc-90e9-e7487837b819",
   "metadata": {},
   "outputs": [],
   "source": [
    "tr_data, tr_label = test.train\n",
    "test_data, test_label = test.test"
   ]
  },
  {
   "cell_type": "code",
   "execution_count": null,
   "id": "f962ca9b-6570-4445-880e-c5b775daab04",
   "metadata": {},
   "outputs": [],
   "source": [
    "model = RNNModel()"
   ]
  },
  {
   "cell_type": "code",
   "execution_count": null,
   "id": "273cd5c8-79cf-4257-9c38-a7657482797a",
   "metadata": {},
   "outputs": [],
   "source": []
  },
  {
   "cell_type": "code",
   "execution_count": null,
   "id": "d8e54c01-27b6-47c6-b35c-5982739040d6",
   "metadata": {
    "tags": []
   },
   "outputs": [],
   "source": [
    "model.hyperopt_ws(tr_data, test_data, 2)"
   ]
  },
  {
   "cell_type": "code",
   "execution_count": null,
   "id": "c57c67e3-edee-4a55-b2df-7bef65b73e11",
   "metadata": {},
   "outputs": [],
   "source": [
    "tr_data, tr_label = test.train\n",
    "test_data, test_label = test.get_test_with_window(model.window)"
   ]
  },
  {
   "cell_type": "code",
   "execution_count": null,
   "id": "975a7d40-79c8-48ef-b85b-642f9118cfa9",
   "metadata": {
    "tags": []
   },
   "outputs": [],
   "source": [
    "model.hyperopt_model(tr_data, test_data, 2)"
   ]
  },
  {
   "cell_type": "code",
   "execution_count": null,
   "id": "4efdd55f-d284-4150-8c0f-5e12414d3e5f",
   "metadata": {},
   "outputs": [],
   "source": [
    "model.fit(tr_data)"
   ]
  },
  {
   "cell_type": "code",
   "execution_count": null,
   "id": "6b088b0d-d2cd-4f72-9346-269cab47dbc8",
   "metadata": {
    "tags": []
   },
   "outputs": [],
   "source": [
    "score, res, preds = model.get_scores(test_data)"
   ]
  },
  {
   "cell_type": "code",
   "execution_count": null,
   "id": "6d4ce509-8eca-4f36-afc0-8314d11ae72b",
   "metadata": {},
   "outputs": [],
   "source": [
    "f, (a,b) = plt.subplots(nrows=2)\n",
    "a.plot(score)\n",
    "#a.plot(test.test[1])\n",
    "b.plot(test.test[0])"
   ]
  },
  {
   "cell_type": "code",
   "execution_count": null,
   "id": "3d984d0e-742c-4ac0-b2f8-35ded1e0f2ed",
   "metadata": {},
   "outputs": [],
   "source": [
    "f, (a,b) = plt.subplots(nrows=2)\n",
    "a.plot(preds)\n",
    "b.plot(test.test[0])"
   ]
  },
  {
   "cell_type": "code",
   "execution_count": null,
   "id": "32cc67a4-295e-49fd-91d8-2685479893be",
   "metadata": {},
   "outputs": [],
   "source": []
  },
  {
   "cell_type": "code",
   "execution_count": null,
   "id": "409b80b6-0e19-4f8c-a9b6-4e0c282baaeb",
   "metadata": {},
   "outputs": [],
   "source": []
  }
 ],
 "metadata": {
  "kernelspec": {
   "display_name": "Python 3 (ipykernel)",
   "language": "python",
   "name": "python3"
  },
  "language_info": {
   "codemirror_mode": {
    "name": "ipython",
    "version": 3
   },
   "file_extension": ".py",
   "mimetype": "text/x-python",
   "name": "python",
   "nbconvert_exporter": "python",
   "pygments_lexer": "ipython3",
   "version": "3.9.12"
  }
 },
 "nbformat": 4,
 "nbformat_minor": 5
}
