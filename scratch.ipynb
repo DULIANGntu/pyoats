{
 "cells": [
  {
   "cell_type": "code",
   "execution_count": 6,
   "id": "c3e77539-68f5-4b9d-8075-bb850dee826e",
   "metadata": {},
   "outputs": [],
   "source": [
    "import numpy as np"
   ]
  },
  {
   "cell_type": "code",
   "execution_count": 1,
   "id": "1596a2d5-d1b6-4973-9cae-343192e5a5da",
   "metadata": {},
   "outputs": [],
   "source": [
    "from one.utils import *"
   ]
  },
  {
   "cell_type": "code",
   "execution_count": 3,
   "id": "92f4b7bb-4a6e-40ff-ac3c-238d5448185d",
   "metadata": {},
   "outputs": [],
   "source": [
    "ROOT_DIR = \"./data/ucr/\"\n"
   ]
  },
  {
   "cell_type": "code",
   "execution_count": 4,
   "id": "c70c1cf8-b7a4-4eeb-9cbe-81373b73699a",
   "metadata": {},
   "outputs": [],
   "source": [
    "t = get_files_from_path(\"./data/ucr\")[0]"
   ]
  },
  {
   "cell_type": "code",
   "execution_count": 25,
   "id": "6ef9f41f-9a8d-46c7-a319-18e52c7f1e0b",
   "metadata": {},
   "outputs": [
    {
     "data": {
      "text/plain": [
       "['001', 'UCR', 'Anomaly', 'DISTORTED1sddb40', '35000', '52000', '52620']"
      ]
     },
     "execution_count": 25,
     "metadata": {},
     "output_type": "execute_result"
    }
   ],
   "source": [
    "(ROOT_DIR+t).split(\"/\")[-1].split(\".\")[0].split(\"_\")"
   ]
  },
  {
   "cell_type": "code",
   "execution_count": 13,
   "id": "561944f3-9941-45e0-aec0-67c88e58bfa8",
   "metadata": {},
   "outputs": [],
   "source": [
    "arr = np.loadtxt(ROOT_DIR+t)"
   ]
  },
  {
   "cell_type": "code",
   "execution_count": 14,
   "id": "540f5668-b829-48bc-9982-6d4ab25d60a9",
   "metadata": {},
   "outputs": [
    {
     "data": {
      "text/plain": [
       "79795"
      ]
     },
     "execution_count": 14,
     "metadata": {},
     "output_type": "execute_result"
    }
   ],
   "source": [
    "arr.size"
   ]
  },
  {
   "cell_type": "code",
   "execution_count": null,
   "id": "676c0a4c-eae5-4e97-ab3f-a11b66e60f2a",
   "metadata": {},
   "outputs": [],
   "source": []
  },
  {
   "cell_type": "code",
   "execution_count": 26,
   "id": "7860b0bf-53e9-4ff1-8611-633572676d85",
   "metadata": {},
   "outputs": [
    {
     "data": {
      "text/plain": [
       "(79795,)"
      ]
     },
     "execution_count": 26,
     "metadata": {},
     "output_type": "execute_result"
    }
   ],
   "source": [
    "arr.shape"
   ]
  },
  {
   "cell_type": "code",
   "execution_count": 30,
   "id": "00dc951f-469d-45c8-92e8-53503c037ea5",
   "metadata": {},
   "outputs": [],
   "source": [
    "lab = np.zeros(arr.size)\n",
    "lab[52000-1: 52620] = 1"
   ]
  },
  {
   "cell_type": "code",
   "execution_count": 32,
   "id": "bbb15748-e422-4e03-950a-131b25cff366",
   "metadata": {},
   "outputs": [
    {
     "data": {
      "text/plain": [
       "1.0"
      ]
     },
     "execution_count": 32,
     "metadata": {},
     "output_type": "execute_result"
    }
   ],
   "source": [
    "lab[52020]"
   ]
  },
  {
   "cell_type": "code",
   "execution_count": 33,
   "id": "9706beda-a7b7-448e-b3fc-17df7b3e1d54",
   "metadata": {},
   "outputs": [
    {
     "data": {
      "text/plain": [
       "'001_UCR_Anomaly_DISTORTED1sddb40_35000_52000_52620.txt'"
      ]
     },
     "execution_count": 33,
     "metadata": {},
     "output_type": "execute_result"
    }
   ],
   "source": [
    "t"
   ]
  },
  {
   "cell_type": "code",
   "execution_count": null,
   "id": "38aa177e-e721-4dc3-a595-8e9e23585a70",
   "metadata": {},
   "outputs": [],
   "source": []
  }
 ],
 "metadata": {
  "kernelspec": {
   "display_name": "Python 3 (ipykernel)",
   "language": "python",
   "name": "python3"
  },
  "language_info": {
   "codemirror_mode": {
    "name": "ipython",
    "version": 3
   },
   "file_extension": ".py",
   "mimetype": "text/x-python",
   "name": "python",
   "nbconvert_exporter": "python",
   "pygments_lexer": "ipython3",
   "version": "3.10.4"
  }
 },
 "nbformat": 4,
 "nbformat_minor": 5
}
