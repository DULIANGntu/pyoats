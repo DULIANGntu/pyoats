{
 "cells": [
  {
   "cell_type": "code",
   "execution_count": null,
   "id": "c3e77539-68f5-4b9d-8075-bb850dee826e",
   "metadata": {},
   "outputs": [],
   "source": [
    "import numpy as np\n",
    "import matplotlib.pyplot as plt\n",
    "from typing import *"
   ]
  },
  {
   "cell_type": "code",
   "execution_count": null,
   "id": "c32c14f1-c881-4a28-aa7e-448b535270d9",
   "metadata": {},
   "outputs": [],
   "source": [
    "%load_ext autoreload\n",
    "%autoreload 2\n"
   ]
  },
  {
   "cell_type": "code",
   "execution_count": null,
   "id": "ba5f8825-b643-4354-8e9b-0d6160f6d813",
   "metadata": {},
   "outputs": [],
   "source": [
    "%matplotlib inline"
   ]
  },
  {
   "cell_type": "code",
   "execution_count": null,
   "id": "64f294b9-bedf-4959-b22b-9d5faef68324",
   "metadata": {},
   "outputs": [],
   "source": [
    "plt.rcParams[\"figure.figsize\"] = 40,10\n",
    "plt.rcParams[\"font.size\"] = 15"
   ]
  },
  {
   "cell_type": "code",
   "execution_count": null,
   "id": "1596a2d5-d1b6-4973-9cae-343192e5a5da",
   "metadata": {},
   "outputs": [],
   "source": [
    "from one.utils import *\n",
    "from one.data.ucrdata import UcrDataReader"
   ]
  },
  {
   "cell_type": "code",
   "execution_count": null,
   "id": "92f4b7bb-4a6e-40ff-ac3c-238d5448185d",
   "metadata": {},
   "outputs": [],
   "source": [
    "ROOT_DIR = \"./data/ucr/\"\n",
    "files = get_files_from_path(\"./data/ucr\")"
   ]
  },
  {
   "cell_type": "code",
   "execution_count": null,
   "id": "c70c1cf8-b7a4-4eeb-9cbe-81373b73699a",
   "metadata": {},
   "outputs": [],
   "source": [
    "d = UcrDataReader()\n",
    "file = d(ROOT_DIR+files[143])"
   ]
  },
  {
   "cell_type": "code",
   "execution_count": null,
   "id": "6ef9f41f-9a8d-46c7-a319-18e52c7f1e0b",
   "metadata": {},
   "outputs": [],
   "source": [
    "p = graph_data(file.series, file.labels, file.train_len)"
   ]
  },
  {
   "cell_type": "code",
   "execution_count": null,
   "id": "79a002f3-f8f2-419d-a47b-cc6afb24029a",
   "metadata": {},
   "outputs": [],
   "source": []
  },
  {
   "cell_type": "markdown",
   "id": "84f84434-02c9-4ee3-b71a-b8b0a36ac1b7",
   "metadata": {},
   "source": [
    "# Experiment"
   ]
  },
  {
   "cell_type": "code",
   "execution_count": null,
   "id": "95cc4bb3-7536-4235-a66f-8525040738f0",
   "metadata": {},
   "outputs": [],
   "source": [
    "import os \n",
    "\n",
    "from one.utils import *\n",
    "from one.models import *\n",
    "from one.data.ucrdata import UcrDataReader"
   ]
  },
  {
   "cell_type": "code",
   "execution_count": null,
   "id": "2ab4d7c6-eb4d-4920-ac43-26fb412c2c42",
   "metadata": {},
   "outputs": [],
   "source": [
    "ROOT_DIR = \"./data/ucr/\"\n",
    "SAVE_DIR = \"./results/\"\n",
    "\n",
    "SIMPLE_MODELS = [LightGBMModel, RandomForestModel, RegressionModel]\n",
    "DL_MODELS = [NBEATSModel, NHiTSModel, TCNModel, TFTModel, TransformerModel]\n",
    "RNN_MODELS = [\"RNN\", \"LSTM\", \"GRU\"]\n",
    "\n",
    "files = get_files_from_path(ROOT_DIR)"
   ]
  },
  {
   "cell_type": "code",
   "execution_count": null,
   "id": "f03567a9-b080-4a7d-8bbd-3bf3ffe8a971",
   "metadata": {},
   "outputs": [],
   "source": [
    "def run_model(m, data, fdir):\n",
    "        os.makedirs(fdir, exist_ok=True)\n",
    "        \n",
    "        train_data, train_label = data.train\n",
    "        test_data, test_label = data.test\n",
    "        \n",
    "        m.hyperopt_ws(train_data, test_data, 30)\n",
    "\n",
    "        model_test_data, model_test_label = data.get_test_with_window(m.window)\n",
    "        \n",
    "        m.hyperopt_model(train_data, model_test_data, 50)\n",
    "        m.fit(train_data)\n",
    "\n",
    "        score, _, preds = m.get_scores(model_test_data)\n",
    "\n",
    "        save_model_output(score, m, f\"{fdir}{m.model_name}_scores.txt\")\n",
    "        save_model_output(preds, m, f\"{fdir}{m.model_name}_preds.txt\")"
   ]
  },
  {
   "cell_type": "code",
   "execution_count": null,
   "id": "67fbd494-1d8f-4222-a9de-da6b2adb9911",
   "metadata": {},
   "outputs": [],
   "source": [
    "reader = UcrDataReader()\n",
    "\n",
    "for file in files:\n",
    "    data_name = file.split(\".\")[0]\n",
    "    data = reader(ROOT_DIR+file)\n",
    "    fdir = f\"{SAVE_DIR}{data_name}/\"\n",
    "    \n",
    "    for model in MODELS:\n",
    "        m = model()\n",
    "        run_model(m, data, fdir)\n",
    "        \n",
    "    for model in DL_Models:\n",
    "        m = model(use_gpu=True, val_split=0.1)\n",
    "        run_model(m, data, fdir)\n",
    "\n",
    "    for model in RNN_MODELS:\n",
    "        m = RNNModel(use_gpu=True, rnn_model=model, val_split=0.1)\n",
    "        run_model(m, data, fdir)\n",
    "        \n",
    "        \n",
    "\n",
    "        "
   ]
  },
  {
   "cell_type": "code",
   "execution_count": null,
   "id": "52b17668-d63f-47dd-b600-411db805995f",
   "metadata": {},
   "outputs": [],
   "source": [
    "m.__class__(100)"
   ]
  },
  {
   "cell_type": "code",
   "execution_count": null,
   "id": "235b70e9-5a31-4147-bee6-f3ffc25bee8a",
   "metadata": {},
   "outputs": [],
   "source": [
    "m"
   ]
  },
  {
   "cell_type": "code",
   "execution_count": null,
   "id": "1ed90c18-2fa0-4bcf-8700-a74513ef4583",
   "metadata": {},
   "outputs": [],
   "source": [
    "from one.models.predictive.nbeats import NBEATSModel"
   ]
  },
  {
   "cell_type": "code",
   "execution_count": null,
   "id": "d56ae043-5298-459c-a398-3c2965d217a5",
   "metadata": {},
   "outputs": [],
   "source": [
    "def hypertune(params: dict):\n",
    "    w = int(params.get(\"w\"))\n",
    "    s = int(params.get(\"s\"))\n",
    "    \n",
    "    tr_data, tr_label = test.train\n",
    "    test_data, test_label = test.get_test_with_window(w)\n",
    "    \n",
    "    model = NBEATSModel(w, s, True, val_split=max(0.10, (w+s)/len(tr_data)+0.01) )\n",
    "    model.fit(tr_data)\n",
    "    score, res, _ = model.get_scores(test_data)\n",
    "    # return np.average(acf(score, fft=False, nlags=5)).item()\n",
    "    return np.sum(res**2)\n"
   ]
  },
  {
   "cell_type": "code",
   "execution_count": null,
   "id": "27500301-695c-4da8-a6ae-3d37d1566474",
   "metadata": {
    "tags": []
   },
   "outputs": [],
   "source": [
    "from hyperopt import fmin, tpe, hp\n",
    "from statsmodels.tsa.stattools import acf\n",
    "\n",
    "\n",
    "best = fmin(hypertune,\n",
    "    space= {'w': hp.quniform(\"w\", 20, 0.2*len(test.train[0]), 5), \n",
    "            \"s\": hp.quniform(\"s\", 1, 20, 1)},\n",
    "    algo=tpe.suggest,\n",
    "    max_evals=20)"
   ]
  },
  {
   "cell_type": "code",
   "execution_count": null,
   "id": "ed5449ba-beaf-4c13-99c8-3c74553e92d4",
   "metadata": {},
   "outputs": [],
   "source": [
    "best"
   ]
  },
  {
   "cell_type": "code",
   "execution_count": null,
   "id": "c4d57782-450f-4527-bfe4-98456adaa98a",
   "metadata": {},
   "outputs": [],
   "source": [
    "w = 160\n",
    "s = 2"
   ]
  },
  {
   "cell_type": "code",
   "execution_count": null,
   "id": "12a74c77-4608-450b-bd04-4810e8995a0d",
   "metadata": {},
   "outputs": [],
   "source": [
    "tr_data, tr_label = test.train\n",
    "test_data, test_label = test.get_test_with_window(w)"
   ]
  },
  {
   "cell_type": "code",
   "execution_count": null,
   "id": "3c10732c-5e11-4553-a7cc-18685708bbd5",
   "metadata": {},
   "outputs": [],
   "source": [
    "model = NBEATSModel(w, s, True, val_split=0.15)"
   ]
  },
  {
   "cell_type": "code",
   "execution_count": null,
   "id": "e8522bb9-71fb-44fe-a064-da4b99c7530a",
   "metadata": {},
   "outputs": [],
   "source": [
    "model.fit(tr_data)"
   ]
  },
  {
   "cell_type": "code",
   "execution_count": null,
   "id": "03b65754-7a8c-4df5-bb9e-1d8b216448a1",
   "metadata": {},
   "outputs": [],
   "source": [
    "score, res, preds = model.get_scores(test_data)"
   ]
  },
  {
   "cell_type": "code",
   "execution_count": null,
   "id": "0d949897-a84f-45ef-aea1-e7db55e2eaa6",
   "metadata": {},
   "outputs": [],
   "source": [
    "f, (a,b) = plt.subplots(nrows=2)\n",
    "a.plot(score)\n",
    "a.plot(test.test[1])\n",
    "b.plot(test.test[0])"
   ]
  },
  {
   "cell_type": "code",
   "execution_count": null,
   "id": "7faacf2e-a338-457b-841d-1cde12ebdee9",
   "metadata": {},
   "outputs": [],
   "source": [
    "f, (a,b) = plt.subplots(nrows=2)\n",
    "a.plot(preds)\n",
    "b.plot(test.test[0])"
   ]
  },
  {
   "cell_type": "code",
   "execution_count": null,
   "id": "9aef2c58-f80c-4bac-a10d-a5b360bd4054",
   "metadata": {},
   "outputs": [],
   "source": [
    "import seaborn as sns\n",
    "\n",
    "sns.distplot(score)"
   ]
  },
  {
   "cell_type": "markdown",
   "id": "706f69b5-e541-4469-9b53-bcdf1f5c3c2d",
   "metadata": {},
   "source": [
    "# Scratch"
   ]
  },
  {
   "cell_type": "code",
   "execution_count": null,
   "id": "fefcc9ca-84cc-4f25-9fdd-93f3207d0299",
   "metadata": {},
   "outputs": [],
   "source": [
    "from one.models import RNNModel"
   ]
  },
  {
   "cell_type": "code",
   "execution_count": null,
   "id": "21d93f44-e93d-49dc-90e9-e7487837b819",
   "metadata": {},
   "outputs": [],
   "source": [
    "tr_data, tr_label = test.train\n",
    "test_data, test_label = test.test"
   ]
  },
  {
   "cell_type": "code",
   "execution_count": null,
   "id": "f962ca9b-6570-4445-880e-c5b775daab04",
   "metadata": {},
   "outputs": [],
   "source": [
    "model = RNNModel()"
   ]
  },
  {
   "cell_type": "code",
   "execution_count": null,
   "id": "273cd5c8-79cf-4257-9c38-a7657482797a",
   "metadata": {},
   "outputs": [],
   "source": []
  },
  {
   "cell_type": "code",
   "execution_count": null,
   "id": "d8e54c01-27b6-47c6-b35c-5982739040d6",
   "metadata": {
    "tags": []
   },
   "outputs": [],
   "source": [
    "model.hyperopt_ws(tr_data, test_data, 2)"
   ]
  },
  {
   "cell_type": "code",
   "execution_count": null,
   "id": "c57c67e3-edee-4a55-b2df-7bef65b73e11",
   "metadata": {},
   "outputs": [],
   "source": [
    "tr_data, tr_label = test.train\n",
    "test_data, test_label = test.get_test_with_window(model.window)"
   ]
  },
  {
   "cell_type": "code",
   "execution_count": null,
   "id": "975a7d40-79c8-48ef-b85b-642f9118cfa9",
   "metadata": {
    "tags": []
   },
   "outputs": [],
   "source": [
    "model.hyperopt_model(tr_data, test_data, 2)"
   ]
  },
  {
   "cell_type": "code",
   "execution_count": null,
   "id": "4efdd55f-d284-4150-8c0f-5e12414d3e5f",
   "metadata": {},
   "outputs": [],
   "source": [
    "model.fit(tr_data)"
   ]
  },
  {
   "cell_type": "code",
   "execution_count": null,
   "id": "6b088b0d-d2cd-4f72-9346-269cab47dbc8",
   "metadata": {
    "tags": []
   },
   "outputs": [],
   "source": [
    "score, res, preds = model.get_scores(test_data)"
   ]
  },
  {
   "cell_type": "code",
   "execution_count": null,
   "id": "6d4ce509-8eca-4f36-afc0-8314d11ae72b",
   "metadata": {},
   "outputs": [],
   "source": [
    "f, (a,b) = plt.subplots(nrows=2)\n",
    "a.plot(score)\n",
    "#a.plot(test.test[1])\n",
    "b.plot(test.test[0])"
   ]
  },
  {
   "cell_type": "code",
   "execution_count": null,
   "id": "3d984d0e-742c-4ac0-b2f8-35ded1e0f2ed",
   "metadata": {},
   "outputs": [],
   "source": [
    "f, (a,b) = plt.subplots(nrows=2)\n",
    "a.plot(preds)\n",
    "b.plot(test.test[0])"
   ]
  },
  {
   "cell_type": "code",
   "execution_count": null,
   "id": "32cc67a4-295e-49fd-91d8-2685479893be",
   "metadata": {},
   "outputs": [],
   "source": []
  },
  {
   "cell_type": "markdown",
   "id": "1961b24d-6325-4fcf-be26-d6c17132b820",
   "metadata": {},
   "source": [
    "# PyOD"
   ]
  },
  {
   "cell_type": "code",
   "execution_count": null,
   "id": "b41650eb-2d37-4ef4-a6f5-663f097b0dd1",
   "metadata": {},
   "outputs": [],
   "source": [
    "from one.models import IsolationForestModel\n",
    "from numpy.lib.stride_tricks import sliding_window_view\n",
    "from tods.timeseries_processing import TimeSeriesSeasonalityTrendDecomposition"
   ]
  },
  {
   "cell_type": "code",
   "execution_count": null,
   "id": "4a60f17f-8bbe-4870-b77e-52ce47009e5f",
   "metadata": {},
   "outputs": [],
   "source": [
    "clf = IsolationForestModel(1000, 1)\n",
    "\n",
    "train_series, tr_labels = test.train\n",
    "test_series, ts_labels = test.test"
   ]
  },
  {
   "cell_type": "code",
   "execution_count": null,
   "id": "1e284e7a-3bfa-4ce3-a601-15c4bab7c488",
   "metadata": {},
   "outputs": [],
   "source": [
    "clf.fit(train_series)"
   ]
  },
  {
   "cell_type": "code",
   "execution_count": null,
   "id": "efcfa6d5-5c0c-4db2-a95f-9d75c41c077b",
   "metadata": {},
   "outputs": [],
   "source": [
    "pred = clf.get_classification(test_series)"
   ]
  },
  {
   "cell_type": "code",
   "execution_count": null,
   "id": "c364fc02-9c5c-4291-8478-9f4e78928445",
   "metadata": {
    "tags": []
   },
   "outputs": [],
   "source": [
    "plt.plot(pred)"
   ]
  },
  {
   "cell_type": "code",
   "execution_count": null,
   "id": "9c2e6284-e6d6-4c8e-9fb9-27575a579e87",
   "metadata": {},
   "outputs": [],
   "source": [
    "plt.plot(ts_labels)"
   ]
  },
  {
   "cell_type": "code",
   "execution_count": null,
   "id": "2662f440-3189-4b6c-8304-bbf94cbe87fc",
   "metadata": {},
   "outputs": [],
   "source": [
    "p = graph_data(test.test[0], test.test[1], 0)"
   ]
  },
  {
   "cell_type": "code",
   "execution_count": null,
   "id": "cbd30845-1d5b-469e-844e-66296fa5df3b",
   "metadata": {},
   "outputs": [],
   "source": [
    "seperation = []\n",
    "trials = [i for i in range(50, 500, 10)]\n",
    "\n",
    "for w in range(50, 500, 10):\n",
    "    clf = ECOD()\n",
    "    tr_windows = sliding_window_view(test.train[0], w)\n",
    "    clf.fit(tr_windows)\n",
    "    \n",
    "    test_data, test_label = test.get_test_with_window(w)\n",
    "    ts_windows = sliding_window_view(test_data, w)\n",
    "\n",
    "    pred = clf.decision_function(ts_windows)[:-1]\n",
    "\n",
    "    sep = np.max(pred) - np.median(pred) \n",
    "    \n",
    "    seperation.append(sep)"
   ]
  },
  {
   "cell_type": "code",
   "execution_count": null,
   "id": "ab908713-c2f0-4efb-b20a-c46880c8b18f",
   "metadata": {},
   "outputs": [],
   "source": [
    "max(seperation)"
   ]
  },
  {
   "cell_type": "code",
   "execution_count": null,
   "id": "7f40b95a-98cb-4455-837f-5dd030ac2f35",
   "metadata": {
    "tags": []
   },
   "outputs": [],
   "source": [
    "dict(zip(seperation, trials))"
   ]
  },
  {
   "cell_type": "code",
   "execution_count": null,
   "id": "3fec01cd-046c-41af-8639-db3d2c7357cc",
   "metadata": {},
   "outputs": [],
   "source": [
    "w = 490"
   ]
  },
  {
   "cell_type": "code",
   "execution_count": null,
   "id": "b1eeae00-8ff4-49c8-a015-e86eb089a96b",
   "metadata": {},
   "outputs": [],
   "source": [
    "    clf = ECOD()\n",
    "    tr_windows = sliding_window_view(test.train[0], w)\n",
    "    clf.fit(tr_windows)\n",
    "    \n",
    "    test_data, test_label = test.get_test_with_window(w)\n",
    "    ts_windows = sliding_window_view(test_data, w)\n",
    "\n",
    "    pred = clf.decision_function(ts_windows)[:-1]"
   ]
  },
  {
   "cell_type": "code",
   "execution_count": null,
   "id": "b1b4b317-1f21-4c14-ae4d-231b9beecf46",
   "metadata": {},
   "outputs": [],
   "source": [
    "plt.plot(pred)"
   ]
  },
  {
   "cell_type": "code",
   "execution_count": null,
   "id": "57a1c3f7-61fe-4f07-838e-0ffc73708145",
   "metadata": {},
   "outputs": [],
   "source": [
    "plt.plot(test_label)"
   ]
  },
  {
   "cell_type": "code",
   "execution_count": null,
   "id": "34715fd5-964b-4b17-bc8c-982fedfa5647",
   "metadata": {},
   "outputs": [],
   "source": []
  },
  {
   "cell_type": "markdown",
   "id": "930b76d8-c73e-4c81-acfe-b018e70cfb5a",
   "metadata": {},
   "source": [
    "# Result Analyzer"
   ]
  },
  {
   "cell_type": "code",
   "execution_count": null,
   "id": "6153b7f6-35d5-47bc-9877-896f8fd9c807",
   "metadata": {},
   "outputs": [],
   "source": [
    "ROOT_DIR = \"./data/ucr/\"\n",
    "SAVE_DIR = \"./results/\"\n",
    "\n",
    "\n",
    "dirs = get_dirs_from_path(SAVE_DIR)"
   ]
  },
  {
   "cell_type": "code",
   "execution_count": null,
   "id": "b3d3d587-9fd8-4af3-8f29-297c6bdade97",
   "metadata": {},
   "outputs": [],
   "source": [
    "from tods.sk_interface.timeseries_processing.HoltWintersExponentialSmoothing_skinterface import (HoltWintersExponentialSmoothingSKI)"
   ]
  },
  {
   "cell_type": "code",
   "execution_count": null,
   "id": "d1cebac2-cfd1-49aa-bf84-3acfa89ca844",
   "metadata": {},
   "outputs": [],
   "source": [
    "from sklearn.preprocessing import Normalizer"
   ]
  },
  {
   "cell_type": "markdown",
   "id": "9facabb2-cbf5-4ed7-9ee4-7b6c505fdf74",
   "metadata": {},
   "source": [
    "## Set Threshold "
   ]
  },
  {
   "cell_type": "code",
   "execution_count": null,
   "id": "d774b70c-437d-4655-8849-f7a0b55a3fb3",
   "metadata": {},
   "outputs": [],
   "source": [
    "import pandas as pd\n",
    "from statsmodels.tsa.holtwinters import ExponentialSmoothing"
   ]
  },
  {
   "cell_type": "code",
   "execution_count": null,
   "id": "e8b114b2-88c2-4cc9-8012-c5c15bcfae8a",
   "metadata": {
    "tags": []
   },
   "outputs": [],
   "source": [
    "plt.plot(scores)"
   ]
  },
  {
   "cell_type": "code",
   "execution_count": null,
   "id": "81bf3800-ee87-4339-9f67-d36be64a3d5f",
   "metadata": {},
   "outputs": [],
   "source": [
    "scores = np.abs(scores.flatten())"
   ]
  },
  {
   "cell_type": "code",
   "execution_count": null,
   "id": "b90f5d43-af6f-4d03-bf6d-3c1344bf4345",
   "metadata": {},
   "outputs": [],
   "source": [
    "t = set_initial_threshold(0.98, scores)\n",
    "t_spot = get_anomaly_threshold(1e-3, scores)\n",
    "is_anom = scores.copy()\n",
    "is_anom[is_anom > t_spot] = 1\n",
    "is_anom[is_anom <= t_spot] = 0"
   ]
  },
  {
   "cell_type": "code",
   "execution_count": null,
   "id": "e3b3dffd-b24c-4e04-8679-8862b8b90db6",
   "metadata": {},
   "outputs": [],
   "source": [
    "print(t, t_spot)"
   ]
  },
  {
   "cell_type": "code",
   "execution_count": null,
   "id": "547b7533-32c7-4380-8b79-47ed6a68254a",
   "metadata": {},
   "outputs": [],
   "source": [
    "def set_initial_threshold(pct_anom: float, scores) -> float:\n",
    "    #sort data\n",
    "    x = np.sort(scores)\n",
    "\n",
    "    #calculate CDF values\n",
    "    y = 1. * np.arange(len(scores)) / (len(scores) - 1)\n",
    "    idx = (np.abs(y - pct_anom)).argmin()\n",
    "\n",
    "    return x[idx]\n",
    "\n",
    "def get_peak_set(t: float, scores):\n",
    "    x = scores.copy()\n",
    "    x = x[x > t]\n",
    "    return x - t\n",
    "    \n",
    "def get_gpd_param(peak_set):\n",
    "    y = peak_set.copy()\n",
    "    mu = y.mean()\n",
    "    var_y = y.var(ddof=1)\n",
    "    \n",
    "    sigma = mu/2 * (1 + mu ** 2 / var_y)\n",
    "    gamma = 1/2 * (1 - mu ** 2 / var_y)\n",
    "    \n",
    "    return sigma, gamma\n",
    "\n",
    "def get_anomaly_threshold(q, scores, initial_pct_anom = 0.98):\n",
    "    t = set_initial_threshold(initial_pct_anom, scores)\n",
    "    y = get_peak_set(t, scores)\n",
    "    n_y = len(y)\n",
    "    n = len(scores)\n",
    "    sigma, gamma = get_gpd_param(y)\n",
    "        \n",
    "    new_threshold = t + sigma/gamma * ((q*n/n_y)**(-gamma) - 1)\n",
    "    return new_threshold"
   ]
  },
  {
   "cell_type": "code",
   "execution_count": null,
   "id": "fc5de08e-6e3a-41b2-bc9e-d536b93bb84f",
   "metadata": {},
   "outputs": [],
   "source": []
  },
  {
   "cell_type": "code",
   "execution_count": null,
   "id": "45c0dd5d-04bf-4b71-bc40-551411c8f6b1",
   "metadata": {},
   "outputs": [],
   "source": []
  },
  {
   "cell_type": "markdown",
   "id": "bb50c0fa-9d03-4063-af58-689b074cea86",
   "metadata": {},
   "source": [
    "## Visualize"
   ]
  },
  {
   "cell_type": "code",
   "execution_count": null,
   "id": "e877a529-df26-4a9d-aab1-1ee12b1ba943",
   "metadata": {},
   "outputs": [],
   "source": [
    "dirs"
   ]
  },
  {
   "cell_type": "code",
   "execution_count": null,
   "id": "9a04b5f5-f1e5-44e7-bdcc-eac8cbbc7c9f",
   "metadata": {},
   "outputs": [],
   "source": [
    "for d in dirs: [f if \"preds\" in f for f in get_files_from_path(SAVE_DIR + d)]"
   ]
  },
  {
   "cell_type": "code",
   "execution_count": null,
   "id": "7b02d5ad-478d-492e-9e03-636086e897d5",
   "metadata": {},
   "outputs": [],
   "source": [
    "transformer.fit()"
   ]
  },
  {
   "cell_type": "code",
   "execution_count": null,
   "id": "a32a7049-0907-42f1-b0ba-238cc778618d",
   "metadata": {
    "tags": []
   },
   "outputs": [],
   "source": [
    "def _eval_wo_label(df: pd.DataFrame) -> Tuple:\n",
    "    \"\"\"\n",
    "    Returns a few quantitative metrics for us to use for evaluation when labels\n",
    "    are not provided.\n",
    "    Parameters\n",
    "    -----------\n",
    "    df: pd.Dataframe\n",
    "        the dataframe with 'timestamp', 'value' and 'predict' columns\n",
    "        where 'predict' is 1 for those predicted as anomalous and 0 otherwise.\n",
    "    Returns\n",
    "    ----------\n",
    "    tuple\n",
    "        (number of anomalies,\n",
    "        % of anomnalies,\n",
    "        avg. distance between mean and all anomalies (yaxis),\n",
    "        avg. time distance between consecutive anomalies,\n",
    "        avg. cycle distance between consecutive anomalies,\n",
    "        maximum range between non anomaly points (yaxis)\n",
    "        )\n",
    "    \"\"\"\n",
    "\n",
    "    num_anomalies = df.predict.sum()\n",
    "    percent_anomalies = num_anomalies/len(df)\n",
    "\n",
    "    mean_val = df.value.mean()\n",
    "\n",
    "    pred_anomalies = df[df['predict'] == 1]\n",
    "    pred_non_anomalies = df[df['predict'] == 1]\n",
    "\n",
    "    avg_anom_dist_from_mean_val = np.mean(pred_anomalies['value'].apply(lambda x: np.abs(x - mean_val)))\n",
    "    try:\n",
    "        avg_time_delta_between_anomalies = pred_anomalies.timestamp.diff().mean().total_seconds() / 3600\n",
    "    except:\n",
    "        avg_time_delta_between_anomalies = np.nan\n",
    "    avg_cycles_delta_between_anomalies = pred_anomalies.index.to_series().diff().fillna(0).mean()\n",
    "\n",
    "    max_range_non_anomalies = abs(pred_non_anomalies['value'].max() - pred_non_anomalies['value'].min())\n",
    "\n",
    "    return (num_anomalies,\n",
    "            percent_anomalies,\n",
    "            avg_anom_dist_from_mean_val,\n",
    "            avg_time_delta_between_anomalies,\n",
    "            avg_cycles_delta_between_anomalies,\n",
    "            max_range_non_anomalies)\n",
    "\n",
    "def get_unlabeled_metrics(s: pd.Series, anomalies: pd.Series) -> tuple:\n",
    "    \"\"\"\n",
    "    Helper function to format inputs before getting metrics\n",
    "    Parameters\n",
    "    -----------\n",
    "    s: pd.Series containing values of time series with timestamp as the index\n",
    "    anomalies: pd.Series containing whether this point is anomalous or not with timestamp as the index, same as above.\n",
    "    Returns\n",
    "    ----------\n",
    "    tuple\n",
    "        (number of anomalies,\n",
    "        % of anomnalies,\n",
    "        avg. distance between mean and all anomalies (yaxis),\n",
    "        avg. time distance between consecutive anomalies,\n",
    "        avg. cycle distance between consecutive anomalies,\n",
    "        maximum range between non anomaly points (yaxis)\n",
    "        )\n",
    "    \"\"\"\n",
    "    df_res = pd.concat((s, anomalies), axis=1).reset_index()\n",
    "    df_res.columns = ['timestamp', 'value', 'predict']\n",
    "    df_res['predict'] = df_res['predict'].astype(int)\n",
    "\n",
    "    metrics = _eval_wo_label(df_res)\n",
    "\n",
    "    return metrics\n"
   ]
  },
  {
   "cell_type": "code",
   "execution_count": null,
   "id": "7b107703-0c22-4ead-93bb-0af7a139e760",
   "metadata": {
    "tags": []
   },
   "outputs": [],
   "source": [
    "def compute_objective(values, targets, predicted_anomalies):\n",
    "    pred = predicted_anomalies.astype(int)\n",
    "\n",
    "    (num_anomalies, percent_anomalies, avg_anom_dist_from_mean_val, avg_time_delta_between_anomalies,\n",
    "         avg_cycles_delta_between_anomalies, max_range_non_anomalies) = get_unlabeled_metrics(values, predicted_anomalies)\n",
    "\n",
    "    obj = 1e4 * percent_anomalies + max_range_non_anomalies - avg_cycles_delta_between_anomalies\n",
    "\n",
    "    # If nan, should return number in case it always gives nan\n",
    "    if np.isnan(obj):\n",
    "        obj = 1e10\n",
    "    return obj\n"
   ]
  },
  {
   "cell_type": "markdown",
   "id": "108799bd-4da2-4105-b704-c5273be48a2a",
   "metadata": {},
   "source": [
    "## Scoring"
   ]
  },
  {
   "cell_type": "code",
   "execution_count": null,
   "id": "adeed601-b473-4fc2-a7d0-c58e80faabb3",
   "metadata": {},
   "outputs": [],
   "source": [
    "DATA_DIR = \"./data/ucr/\"\n",
    "SAVE_DIR = \"./results/\"\n",
    "\n",
    "\n",
    "raw_dirs = get_dirs_from_path(SAVE_DIR)"
   ]
  },
  {
   "cell_type": "code",
   "execution_count": null,
   "id": "b2d1f8f1-0532-45fb-85a9-1e9e291ffcab",
   "metadata": {},
   "outputs": [],
   "source": [
    "dirs = get_dirs_from_path(SAVE_DIR)\n",
    "dirs = [SAVE_DIR + d + \"/\" for d in dirs]\n",
    "\n",
    "results = []\n",
    "for d in dirs:\n",
    "    for r in get_files_from_path(d):\n",
    "        if \"preds\" in r: results.append(d+r)"
   ]
  },
  {
   "cell_type": "code",
   "execution_count": null,
   "id": "a4fbd59b-57e1-4ba7-9335-bd7039eed37c",
   "metadata": {},
   "outputs": [],
   "source": [
    "files = get_files_from_path(DATA_DIR)"
   ]
  },
  {
   "cell_type": "code",
   "execution_count": null,
   "id": "80e46842-253e-4a56-ab15-ff855a8b2a51",
   "metadata": {},
   "outputs": [],
   "source": [
    "result_n = 161\n",
    "\n",
    "# get original Data\n",
    "for idx, f in enumerate(files):\n",
    "    if result_n == int(f.split(\"_\")[0]):\n",
    "        file = UcrDataReader()(DATA_DIR+f)\n",
    "\n",
    "# Get experiment outcomes\n",
    "for idx, f in enumerate(raw_dirs):\n",
    "    if result_n == int(f.split(\"_\")[0]):\n",
    "        results = []\n",
    "        for r in get_files_from_path(dirs[idx]):\n",
    "            if \"scores\" in r: results.append(dirs[idx]+r)\n"
   ]
  },
  {
   "cell_type": "code",
   "execution_count": null,
   "id": "b072f13d-9569-4d2b-9654-0fed99bdf46a",
   "metadata": {},
   "outputs": [],
   "source": [
    "anomaly_indices = []\n",
    "\n",
    "for r in results:\n",
    "    train_len = int(r.split(\"_\")[4])\n",
    "    \n",
    "    arr = np.loadtxt(r)\n",
    "    th = get_anomaly_threshold(1e-3, arr)\n",
    "    \n",
    "    is_anom = arr.copy()\n",
    "    \n",
    "    anomaly_indices.append([i + train_len for i in np.where(arr > th)[0]])\n",
    "    \n",
    "    "
   ]
  },
  {
   "cell_type": "code",
   "execution_count": null,
   "id": "8375a570-1a3c-4b06-93fb-8abd40b4d1d0",
   "metadata": {},
   "outputs": [],
   "source": [
    "results"
   ]
  },
  {
   "cell_type": "code",
   "execution_count": null,
   "id": "e15e5f4f-b828-4dae-811d-fa3fb8af2a90",
   "metadata": {},
   "outputs": [],
   "source": [
    "p = graph_data(file.series, file.labels, file.train_len)\n",
    "ax1, ax2 = p.get_axes()\n",
    "\n",
    "for idx, anoms in enumerate(anomaly_indices):\n",
    "    method_name = results[idx].split(\"/\")[-1].split(\".\")[0].split(\"_\")[0]\n",
    "    if \"RNN\" in method_name: method_name += f\"-{results[idx].split('/')[-1].split('.')[0].split('_')[1]}\"\n",
    "    \n",
    "    ax_new = p.add_axes([0.125,0.1 - (1+idx)*(0.05),0.775,0.05], anchor=\"SW\", sharex=ax1)\n",
    "    ax_new.text(10,0.5, method_name, fontfamily=\"monospace\", va=\"center\")\n",
    "    \n",
    "    ax_new.set_xticklabels([])\n",
    "    ax_new.set_xticks([])\n",
    "    ax_new.set_yticklabels([])\n",
    "    ax_new.set_yticks([])\n",
    "    \n",
    "    ax_new.vlines(anoms, 0, 1, colors=\"red\")\n",
    "\n"
   ]
  },
  {
   "cell_type": "code",
   "execution_count": null,
   "id": "31cdabf9-7a17-4890-8954-e6552f01fbb6",
   "metadata": {},
   "outputs": [],
   "source": []
  },
  {
   "cell_type": "code",
   "execution_count": null,
   "id": "08bc2a86-1f29-4301-810b-7f1fd32a72c5",
   "metadata": {},
   "outputs": [],
   "source": []
  },
  {
   "cell_type": "code",
   "execution_count": null,
   "id": "bad2ee11-43e4-4ebe-98bc-7201964222d3",
   "metadata": {},
   "outputs": [],
   "source": []
  }
 ],
 "metadata": {
  "kernelspec": {
   "display_name": "Python 3 (ipykernel)",
   "language": "python",
   "name": "python3"
  },
  "language_info": {
   "codemirror_mode": {
    "name": "ipython",
    "version": 3
   },
   "file_extension": ".py",
   "mimetype": "text/x-python",
   "name": "python",
   "nbconvert_exporter": "python",
   "pygments_lexer": "ipython3",
   "version": "3.8.13"
  }
 },
 "nbformat": 4,
 "nbformat_minor": 5
}
