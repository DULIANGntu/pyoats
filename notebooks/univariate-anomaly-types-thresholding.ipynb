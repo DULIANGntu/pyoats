{
 "cells": [
  {
   "cell_type": "code",
   "execution_count": 19,
   "id": "628e8b40-08c5-49a7-9048-1108cb23b412",
   "metadata": {},
   "outputs": [],
   "source": [
    "import os\n"
   ]
  },
  {
   "cell_type": "code",
   "execution_count": 20,
   "id": "6fd21ec7-7f01-451c-8875-c0ed6411218b",
   "metadata": {},
   "outputs": [],
   "source": [
    "import matplotlib.pyplot as plt\n",
    "import numpy as np\n",
    "from numpy.lib.stride_tricks import sliding_window_view   \n",
    "import optuna"
   ]
  },
  {
   "cell_type": "code",
   "execution_count": 62,
   "id": "75ac4e33-81a1-4792-9705-504ad4867cf6",
   "metadata": {},
   "outputs": [],
   "source": [
    "from one.generator.univariate import UnivariateDataGenerator\n",
    "from one.models import *\n",
    "from one.utils import *\n",
    "from one.scorer.pot import *\n",
    "from one.scorer.spot import *\n",
    "import jenkspy"
   ]
  },
  {
   "cell_type": "code",
   "execution_count": 9,
   "id": "7b8ad3c7-97d8-47a1-bcae-e3aac46138d0",
   "metadata": {},
   "outputs": [],
   "source": [
    "%load_ext autoreload\n",
    "%autoreload 2"
   ]
  },
  {
   "cell_type": "code",
   "execution_count": 10,
   "id": "e0c521f5-f82a-420f-af7a-979c163caf31",
   "metadata": {},
   "outputs": [],
   "source": [
    "plt.rcParams[\"figure.figsize\"] = 40,10\n",
    "plt.rcParams[\"font.size\"] = 15"
   ]
  },
  {
   "cell_type": "markdown",
   "id": "24463bb6-4cc9-48f4-9b92-5781b967cc1c",
   "metadata": {
    "tags": []
   },
   "source": [
    "# Scoring Helper"
   ]
  },
  {
   "cell_type": "code",
   "execution_count": 12,
   "id": "a412f15e-5dd6-404d-b780-1c33747fc427",
   "metadata": {},
   "outputs": [],
   "source": [
    "class ScoreCounter:\n",
    "    def __init__(self):\n",
    "        self.tp = 0\n",
    "        self.fp = 0\n",
    "        self.tn = 0\n",
    "        self.fn = 0\n",
    "        \n",
    "    def process(self, preds, labels):\n",
    "        preds = preds.copy()\n",
    "        labels = labels.copy()\n",
    "        ground_truth_ones = np.where(labels == 1)[0]\n",
    "        pred_ones = np.where(preds == 1)[0]\n",
    "        \n",
    "        ranges = self._consecutive(ground_truth_ones)\n",
    "        \n",
    "        tp, fp, tn, fn = 0, 0, 0, 0\n",
    "        \n",
    "        for r in ranges:\n",
    "            intersect = np.intersect1d(r, pred_ones, assume_unique=True)\n",
    "            if intersect.size != 0:\n",
    "                tp += r.size\n",
    "                preds[intersect] = 0\n",
    "                pred_ones = np.where(preds == 1)[0]\n",
    "            else:\n",
    "                fn += r.size\n",
    "            \n",
    "        fp += pred_ones.size\n",
    "        tn += preds.size - tp - fp - fn\n",
    "        \n",
    "        self.tp += tp\n",
    "        self.fp += fp\n",
    "        self.tn += tn\n",
    "        self.fn += fn\n",
    "        \n",
    "        \n",
    "        return\n",
    "        \n",
    "        \n",
    "    def _consecutive(self, data, stepsize=1):\n",
    "        return np.split(data, np.where(np.diff(data) != stepsize)[0]+1)\n",
    "    \n",
    "    \n",
    "    @property\n",
    "    def tpr(self):\n",
    "        return self.tp/(self.fn+self.tp)\n",
    "    \n",
    "    @property\n",
    "    def fpr(self):\n",
    "        return self.fp/(self.tn+self.fp)\n",
    "    \n",
    "    @property\n",
    "    def tnr(self):\n",
    "        return self.tn/(self.tn+self.fp)\n",
    "        \n",
    "    @property\n",
    "    def fnr(self):\n",
    "        return self.fn/(self.fn+self.tp)\n",
    "        \n",
    "    @property\n",
    "    def precision(self):\n",
    "        return self.tp/(self.tp+self.fp)\n",
    "    \n",
    "    @property\n",
    "    def recall(self):\n",
    "        return self.tp/(self.tp+self.fn)\n",
    "    \n",
    "    @property\n",
    "    def f1(self):\n",
    "        if self.precision + self.recall == 0: return 0\n",
    "        return (2*self.precision*self.recall)/(self.precision+self.recall)\n",
    "    \n",
    "    "
   ]
  },
  {
   "cell_type": "markdown",
   "id": "568e7322-4b76-4857-9919-230823581a3a",
   "metadata": {
    "tags": []
   },
   "source": [
    "# Run Experiments"
   ]
  },
  {
   "cell_type": "markdown",
   "id": "24c8acc2-00db-4d94-bf16-a63d22043a7b",
   "metadata": {
    "tags": []
   },
   "source": [
    "## F1 Tuned - 50% dataset"
   ]
  },
  {
   "cell_type": "markdown",
   "id": "b65a3c1e-7a7f-4cf2-a2bb-e596baa6f8d3",
   "metadata": {},
   "source": [
    "### -- Setup"
   ]
  },
  {
   "cell_type": "code",
   "execution_count": 21,
   "id": "ef0fb3f4-9acd-4b99-94a9-9068c8ef2601",
   "metadata": {},
   "outputs": [],
   "source": [
    "from one.models import *\n",
    "from one.utils import *\n",
    "from one.scorer.pot import *\n",
    "from numpy.lib.stride_tricks import sliding_window_view   "
   ]
  },
  {
   "cell_type": "code",
   "execution_count": 22,
   "id": "424b29d3-c4a0-4d09-83f0-904dce2ed7d9",
   "metadata": {},
   "outputs": [],
   "source": [
    "PATH0 = \"../data/univar-synth/point_global/\"\n",
    "PATH1 = \"../data/univar-synth/point_contextual/\"\n",
    "PATH2 = \"../data/univar-synth/collective_global/\"\n",
    "PATH3 = \"../data/univar-synth/collective_trend/\"\n",
    "PATH4 = \"../data/univar-synth/collective_seasonal/\""
   ]
  },
  {
   "cell_type": "code",
   "execution_count": 23,
   "id": "7509bfcb-ac94-4ff9-a492-ae5609d53aa2",
   "metadata": {},
   "outputs": [],
   "source": [
    "PATHS = [PATH0, PATH1, PATH2, PATH3, PATH4]"
   ]
  },
  {
   "cell_type": "code",
   "execution_count": 26,
   "id": "986822e6-c5e0-482f-b200-27f4fa17ef07",
   "metadata": {},
   "outputs": [],
   "source": [
    "SAVE_DIR = \"../results/univar-synth/thresholding/\""
   ]
  },
  {
   "cell_type": "code",
   "execution_count": 25,
   "id": "51bd02e3-2b7d-41da-8ca6-f8ca5dacd656",
   "metadata": {},
   "outputs": [],
   "source": [
    "optuna.logging.set_verbosity(optuna.logging.CRITICAL)"
   ]
  },
  {
   "cell_type": "code",
   "execution_count": 29,
   "id": "114e14db-5b62-43d5-a2c5-916f1a093ca2",
   "metadata": {},
   "outputs": [],
   "source": []
  },
  {
   "cell_type": "markdown",
   "id": "35090c0b-683d-41f0-bcac-0955143aabe2",
   "metadata": {},
   "source": [
    "### MA"
   ]
  },
  {
   "cell_type": "markdown",
   "id": "762cc48f-5a69-43b6-b15e-5a87b00a29fa",
   "metadata": {},
   "source": [
    "#### Quantile"
   ]
  },
  {
   "cell_type": "code",
   "execution_count": 220,
   "id": "1c514753-fcd2-4983-bac6-69daabf7610f",
   "metadata": {
    "tags": []
   },
   "outputs": [
    {
     "name": "stdout",
     "output_type": "stream",
     "text": [
      "123, 85, 9425, 367, 0.2510204081632653, 0.008937960042060988, 0.991062039957939, 0.7489795918367347, 0.5913461538461539, 0.2510204081632653, 0.35243553008595985\n",
      "32, 264, 9262, 442, 0.06751054852320675, 0.02771362586605081, 0.9722863741339491, 0.9324894514767933, 0.10810810810810811, 0.06751054852320675, 0.0831168831168831\n",
      "100, 4, 9496, 400, 0.2, 0.0004210526315789474, 0.999578947368421, 0.8, 0.9615384615384616, 0.2, 0.3311258278145695\n",
      "200, 14, 9786, 0, 1.0, 0.0014285714285714286, 0.9985714285714286, 0.0, 0.9345794392523364, 1.0, 0.966183574879227\n",
      "467, 91, 9142, 300, 0.6088657105606258, 0.009855951478392721, 0.9901440485216073, 0.39113428943937417, 0.8369175627240143, 0.6088657105606258, 0.7049056603773585\n"
     ]
    }
   ],
   "source": [
    "# MA Model \n",
    "import warnings\n",
    "warnings.filterwarnings('ignore')\n",
    "\n",
    "thres_method = \"spot\"\n",
    "\n",
    "for path in PATHS:\n",
    "    file_list = [\"-\".join(f.split(\"-\")[:-1]) for f in get_files_from_path(path) if \"train\" in f]\n",
    "    scorer = ScoreCounter()\n",
    "    for f in file_list:\n",
    "        train = np.loadtxt(path+f+\"-train.txt\")\n",
    "        test = np.loadtxt(path+f+\"-test.txt\")\n",
    "        labels = np.loadtxt(path+f+\"-labels.txt\")\n",
    "\n",
    "        n_tune = labels.size // 2\n",
    "        tune_data, tune_labels = test[:n_tune], labels[:n_tune]\n",
    "        test_data, test_labels = test[n_tune:], labels[n_tune:]\n",
    "        \n",
    "        def objective(trial):\n",
    "            s = ScoreCounter()\n",
    "            window = 50\n",
    "            \n",
    "            contam = trial.suggest_float(\"contam\", 0.90, 0.999)\n",
    "            q = trial.suggest_float(\"q\", 1e-5, 1e-1, log=True)\n",
    "            nb_class = trial.suggest_int(\"nb_class\", 2, 30)\n",
    "            \n",
    "           \n",
    "            test_extend = np.concatenate((train[-window:], tune_data))\n",
    "            model = MovingAverageModel(window)\n",
    "            scores = np.abs(model.get_scores(test_extend)[window:])\n",
    "            \n",
    "            #get threshold\n",
    "            # thres = np.quantile(scores, contam) # quantile\n",
    "            # thres = pot(scores, q, contam) # pot\n",
    "            # thres = jenkspy.jenks_breaks(scores, nb_class=nb_class)[-2] # jenks\n",
    "            \n",
    "            spot = SPOT(q, contam) \n",
    "            thres = spot.load_initial(scores[:100]) # spot\n",
    "            thres = spot.step_all(scores[100:]) # spot\n",
    "            \n",
    "            \n",
    "            preds = scores[100:].copy() # spot\n",
    "            # preds = scores.copy()\n",
    "            preds[preds <= thres] = 0\n",
    "            preds[preds > thres] = 1\n",
    " \n",
    "            s.process(preds, tune_labels)\n",
    "        \n",
    "            if s.tp == 0 and s.fp == 0: return -1\n",
    "            if s.tp == 0 and s.fn == 0: return -1\n",
    "\n",
    "            if s.precision == 0 and s.recall == 0: return -1\n",
    "            return s.f1\n",
    "            \n",
    "       \n",
    "        study = optuna.create_study(direction=\"maximize\")\n",
    "        study.optimize(objective, n_trials=50)\n",
    "       \n",
    "        window = 50\n",
    "        contam = study.best_params[\"contam\"]\n",
    "        q = study.best_params[\"q\"]\n",
    "        nb_class = study.best_params[\"nb_class\"]\n",
    "        model = MovingAverageModel(window)\n",
    "        \n",
    "        test_extend = np.concatenate((train[-window:], test))\n",
    "        \n",
    "        scores = model.get_scores(test_extend)[0]\n",
    "        \n",
    "        #get threshold\n",
    "        # thres = np.quantile(scores[:n_tune], contam) # quantile\n",
    "        # thres = pot(scores[:n_tune], q, contam) # pot\n",
    "        # thres = jenkspy.jenks_breaks(scores[:n_tune], nb_class=nb_class)[-2] # jenks\n",
    "\n",
    "        spot = SPOT(q, contam)\n",
    "        spot.load_initial(scores[:100]) # spot\n",
    "        thres = spot.step_all(scores[100:])[n_tune-100:] # spot\n",
    "\n",
    "        preds = scores[n_tune:].copy()\n",
    "        preds[preds <= thres] = 0\n",
    "        preds[preds > thres] = 1\n",
    "\n",
    "        scorer.process(preds, labels[n_tune:])\n",
    "        \n",
    "        # Save results\n",
    "        save = SAVE_DIR+f\"ma/{thres_method}/\"+f\n",
    "        os.makedirs(SAVE_DIR+f\"ma/{thres_method}\", exist_ok=True)\n",
    "        params = study.best_params\n",
    "        params.update({\"thres\": thres})\n",
    "        np.savetxt(save+\"-scores.txt\", scores[n_tune:], header=str(params))\n",
    "        np.savetxt(save+\"-preds.txt\", preds, header=str(params))\n",
    "\n",
    "\n",
    "    print(f\"{scorer.tp}, {scorer.fp}, {scorer.tn}, {scorer.fn}, {scorer.tpr}, {scorer.fpr}, {scorer.tnr}, {scorer.fnr}, {scorer.precision}, {scorer.recall}, {scorer.f1}\")"
   ]
  },
  {
   "cell_type": "code",
   "execution_count": 218,
   "id": "9358bd74-0a9b-4479-a99c-99b4ec79822c",
   "metadata": {},
   "outputs": [
    {
     "data": {
      "text/plain": [
       "[<matplotlib.lines.Line2D at 0x7f7f70e524f0>]"
      ]
     },
     "execution_count": 218,
     "metadata": {},
     "output_type": "execute_result"
    },
    {
     "data": {
      "image/png": "[encoded data removed]",
      "text/plain": [
       "<Figure size 432x288 with 1 Axes>"
      ]
     },
     "metadata": {
      "needs_background": "light"
     },
     "output_type": "display_data"
    }
   ],
   "source": [
    "plt.plot(scores[2000:])\n",
    "plt.plot(thres)"
   ]
  },
  {
   "cell_type": "markdown",
   "id": "301c051f-6787-4d28-baea-d1849b63a651",
   "metadata": {},
   "source": [
    "## Load Results"
   ]
  },
  {
   "cell_type": "code",
   "execution_count": null,
   "id": "d52c6679-4a62-4f35-b44e-65a9f8a6358a",
   "metadata": {},
   "outputs": [
    {
     "name": "stdout",
     "output_type": "stream",
     "text": [
      "165, 23, 9487, 325, 0.336734693877551, 0.00241850683491062, 0.9975814931650894, 0.6632653061224489, 0.8776595744680851, 0.336734693877551, 0.48672566371681414\n",
      "19, 203, 9323, 455, 0.04008438818565401, 0.02131009867730422, 0.9786899013226957, 0.959915611814346, 0.08558558558558559, 0.04008438818565401, 0.0545977011494253\n",
      "200, 194, 9306, 300, 0.4, 0.020421052631578947, 0.9795789473684211, 0.6, 0.5076142131979695, 0.4, 0.44742729306487694\n",
      "100, 271, 9529, 100, 0.5, 0.027653061224489794, 0.9723469387755102, 0.5, 0.2695417789757412, 0.5, 0.350262697022767\n",
      "667, 197, 9036, 100, 0.8696219035202086, 0.021336510343333694, 0.9786634896566663, 0.1303780964797914, 0.7719907407407407, 0.8696219035202086, 0.8179031269160024\n"
     ]
    }
   ],
   "source": [
    "SAVE_DIR = \"../results/univar-synth/thresholding/\"\n",
    "model = \"quantile\"\n",
    "thres_method = \"quantile\"\n",
    "for path in PATHS:\n",
    "    scorer = ScoreCounter()\n",
    "    file_list = [\"-\".join(f.split(\"-\")[:-1]) for f in get_files_from_path(path) if \"train\" in f]\n",
    "    for f in file_list:\n",
    "        preds = np.loadtxt(SAVE_DIR+f\"{model}/\"+f+\"-preds.txt\")\n",
    "        labels = np.loadtxt(path+f+\"-labels.txt\")[-len(preds):]\n",
    "        if len(preds) != 2000: break\n",
    "        scorer.process(preds, labels)\n",
    "        \n",
    "    print(f\"{scorer.tp}, {scorer.fp}, {scorer.tn}, {scorer.fn}, {scorer.tpr}, {scorer.fpr}, {scorer.tnr}, {scorer.fnr}, {scorer.precision}, {scorer.recall}, {scorer.f1}\")"
   ]
  },
  {
   "cell_type": "code",
   "execution_count": null,
   "id": "554a47f9-c1df-472f-96ac-d8038c4ec72d",
   "metadata": {},
   "outputs": [],
   "source": []
  }
 ],
 "metadata": {
  "kernelspec": {
   "display_name": "Python 3 (ipykernel)",
   "language": "python",
   "name": "python3"
  },
  "language_info": {
   "codemirror_mode": {
    "name": "ipython",
    "version": 3
   },
   "file_extension": ".py",
   "mimetype": "text/x-python",
   "name": "python",
   "nbconvert_exporter": "python",
   "pygments_lexer": "ipython3",
   "version": "3.9.12"
  }
 },
 "nbformat": 4,
 "nbformat_minor": 5
}
