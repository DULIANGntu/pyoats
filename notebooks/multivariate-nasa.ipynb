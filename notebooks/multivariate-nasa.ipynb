{
 "cells": [
  {
   "cell_type": "code",
   "execution_count": 20,
   "id": "89c8ef76-102b-40bc-a97c-041c0c63bd22",
   "metadata": {},
   "outputs": [],
   "source": [
    "import os"
   ]
  },
  {
   "cell_type": "code",
   "execution_count": 3,
   "id": "ea65a862-d3c9-4b75-982e-bbb911915a77",
   "metadata": {},
   "outputs": [],
   "source": [
    "import matplotlib.pyplot as plt\n",
    "import numpy as np\n",
    "import pandas as pd\n",
    "from numpy.lib.stride_tricks import sliding_window_view   \n",
    "import optuna"
   ]
  },
  {
   "cell_type": "code",
   "execution_count": 4,
   "id": "28b76147-753c-4ebf-a2f6-bb640dc34c74",
   "metadata": {},
   "outputs": [],
   "source": [
    "from one.generator.univariate import UnivariateDataGenerator\n",
    "from one.models import *\n",
    "from one.utils import *\n",
    "from one.scorer.pot import *"
   ]
  },
  {
   "cell_type": "code",
   "execution_count": 5,
   "id": "f2f18ac6-ebe4-4ff5-8083-f634936dbf9e",
   "metadata": {},
   "outputs": [],
   "source": [
    "%load_ext autoreload\n",
    "%autoreload 2"
   ]
  },
  {
   "cell_type": "code",
   "execution_count": 6,
   "id": "a7b3f1b1-0d8c-475d-8109-e6cf00745eb0",
   "metadata": {},
   "outputs": [],
   "source": [
    "plt.rcParams[\"figure.figsize\"] = 40,10\n",
    "plt.rcParams[\"font.size\"] = 15"
   ]
  },
  {
   "cell_type": "markdown",
   "id": "8c6190c0-fe43-4d6c-b0a0-7dabc2e12edd",
   "metadata": {
    "tags": []
   },
   "source": [
    "# Load NASA Dataset"
   ]
  },
  {
   "cell_type": "code",
   "execution_count": 21,
   "id": "3ee5aa60-1cdc-4a13-abc1-f5adf448acf6",
   "metadata": {},
   "outputs": [],
   "source": [
    "TRAIN = \"../data/nasa/train/\"\n",
    "TEST = \"../data/nasa/test/\"\n",
    "LABELS = \"../data/nasa/labeled_anomalies.csv\""
   ]
  },
  {
   "cell_type": "code",
   "execution_count": 22,
   "id": "cf2b3ce0-c5de-45c5-8179-141d465cd892",
   "metadata": {},
   "outputs": [],
   "source": [
    "import ast\n",
    "def convert_class(x):\n",
    "    x = x.replace(\"contextual\", \"\\\"contextual\\\"\")\n",
    "    x = x.replace(\"point\", \"\\\"point\\\"\")\n",
    "    return x\n",
    "\n",
    "def make_array(row):\n",
    "    return np.array(row)\n",
    "\n",
    "converters = {\n",
    "    \"anomaly_sequences\": lambda x: make_array(ast.literal_eval(x)),\n",
    "    \"class\": lambda x: ast.literal_eval(convert_class(x))\n",
    "}\n",
    "\n",
    "\n",
    "label_df = pd.read_csv(LABELS, converters=converters)\n",
    "\n",
    "# get only those with multiple anomalies\n",
    "label_df = label_df[label_df[\"anomaly_sequences\"].apply(lambda x: x.shape[0]) > 1]\n",
    "label_df = label_df.reset_index(drop=True)"
   ]
  },
  {
   "cell_type": "code",
   "execution_count": 23,
   "id": "a3c74465-c8a6-4e57-8da7-440624e22a66",
   "metadata": {},
   "outputs": [
    {
     "data": {
      "text/html": [
       "<div>\n",
       "<style scoped>\n",
       "    .dataframe tbody tr th:only-of-type {\n",
       "        vertical-align: middle;\n",
       "    }\n",
       "\n",
       "    .dataframe tbody tr th {\n",
       "        vertical-align: top;\n",
       "    }\n",
       "\n",
       "    .dataframe thead th {\n",
       "        text-align: right;\n",
       "    }\n",
       "</style>\n",
       "<table border=\"1\" class=\"dataframe\">\n",
       "  <thead>\n",
       "    <tr style=\"text-align: right;\">\n",
       "      <th></th>\n",
       "      <th>chan_id</th>\n",
       "      <th>spacecraft</th>\n",
       "      <th>anomaly_sequences</th>\n",
       "      <th>class</th>\n",
       "      <th>num_values</th>\n",
       "    </tr>\n",
       "  </thead>\n",
       "  <tbody>\n",
       "    <tr>\n",
       "      <th>0</th>\n",
       "      <td>P-1</td>\n",
       "      <td>SMAP</td>\n",
       "      <td>[[2149, 2349], [4536, 4844], [3539, 3779]]</td>\n",
       "      <td>[contextual, contextual, contextual]</td>\n",
       "      <td>8505</td>\n",
       "    </tr>\n",
       "    <tr>\n",
       "      <th>1</th>\n",
       "      <td>E-1</td>\n",
       "      <td>SMAP</td>\n",
       "      <td>[[5000, 5030], [5610, 6086]]</td>\n",
       "      <td>[contextual, contextual]</td>\n",
       "      <td>8516</td>\n",
       "    </tr>\n",
       "    <tr>\n",
       "      <th>2</th>\n",
       "      <td>E-10</td>\n",
       "      <td>SMAP</td>\n",
       "      <td>[[5000, 5050], [5601, 5871]]</td>\n",
       "      <td>[contextual, contextual]</td>\n",
       "      <td>8505</td>\n",
       "    </tr>\n",
       "    <tr>\n",
       "      <th>3</th>\n",
       "      <td>E-11</td>\n",
       "      <td>SMAP</td>\n",
       "      <td>[[5000, 5050], [5614, 5857]]</td>\n",
       "      <td>[contextual, contextual]</td>\n",
       "      <td>8514</td>\n",
       "    </tr>\n",
       "    <tr>\n",
       "      <th>4</th>\n",
       "      <td>E-12</td>\n",
       "      <td>SMAP</td>\n",
       "      <td>[[5610, 6141], [5000, 5050]]</td>\n",
       "      <td>[contextual, contextual]</td>\n",
       "      <td>8512</td>\n",
       "    </tr>\n",
       "    <tr>\n",
       "      <th>5</th>\n",
       "      <td>E-13</td>\n",
       "      <td>SMAP</td>\n",
       "      <td>[[5309, 5410], [5600, 5640], [6449, 6569]]</td>\n",
       "      <td>[contextual, contextual, contextual]</td>\n",
       "      <td>8640</td>\n",
       "    </tr>\n",
       "    <tr>\n",
       "      <th>6</th>\n",
       "      <td>P-4</td>\n",
       "      <td>SMAP</td>\n",
       "      <td>[[950, 1080], [2150, 2350], [4770, 4880]]</td>\n",
       "      <td>[point, point, point]</td>\n",
       "      <td>7783</td>\n",
       "    </tr>\n",
       "    <tr>\n",
       "      <th>7</th>\n",
       "      <td>T-1</td>\n",
       "      <td>SMAP</td>\n",
       "      <td>[[2399, 3898], [6550, 6585]]</td>\n",
       "      <td>[point, contextual]</td>\n",
       "      <td>8612</td>\n",
       "    </tr>\n",
       "    <tr>\n",
       "      <th>8</th>\n",
       "      <td>T-3</td>\n",
       "      <td>SMAP</td>\n",
       "      <td>[[2098, 2180], [5200, 5300]]</td>\n",
       "      <td>[point, point]</td>\n",
       "      <td>8579</td>\n",
       "    </tr>\n",
       "    <tr>\n",
       "      <th>9</th>\n",
       "      <td>G-7</td>\n",
       "      <td>SMAP</td>\n",
       "      <td>[[3650, 3750], [5050, 5100], [7560, 7675]]</td>\n",
       "      <td>[contextual, point, contextual]</td>\n",
       "      <td>8029</td>\n",
       "    </tr>\n",
       "    <tr>\n",
       "      <th>10</th>\n",
       "      <td>F-7</td>\n",
       "      <td>MSL</td>\n",
       "      <td>[[1250, 1450], [2670, 2790], [3325, 3425]]</td>\n",
       "      <td>[contextual, contextual, contextual]</td>\n",
       "      <td>5054</td>\n",
       "    </tr>\n",
       "    <tr>\n",
       "      <th>11</th>\n",
       "      <td>C-1</td>\n",
       "      <td>MSL</td>\n",
       "      <td>[[550, 750], [2100, 2210]]</td>\n",
       "      <td>[point, contextual]</td>\n",
       "      <td>2264</td>\n",
       "    </tr>\n",
       "    <tr>\n",
       "      <th>12</th>\n",
       "      <td>C-2</td>\n",
       "      <td>MSL</td>\n",
       "      <td>[[290, 390], [1540, 1575]]</td>\n",
       "      <td>[point, contextual]</td>\n",
       "      <td>2051</td>\n",
       "    </tr>\n",
       "    <tr>\n",
       "      <th>13</th>\n",
       "      <td>T-13</td>\n",
       "      <td>MSL</td>\n",
       "      <td>[[690, 790], [1900, 2050]]</td>\n",
       "      <td>[contextual, contextual]</td>\n",
       "      <td>2430</td>\n",
       "    </tr>\n",
       "    <tr>\n",
       "      <th>14</th>\n",
       "      <td>D-14</td>\n",
       "      <td>MSL</td>\n",
       "      <td>[[1630, 1650], [1800, 2000]]</td>\n",
       "      <td>[point, point]</td>\n",
       "      <td>2625</td>\n",
       "    </tr>\n",
       "    <tr>\n",
       "      <th>15</th>\n",
       "      <td>T-9</td>\n",
       "      <td>MSL</td>\n",
       "      <td>[[780, 810], [890, 970]]</td>\n",
       "      <td>[point, point]</td>\n",
       "      <td>1096</td>\n",
       "    </tr>\n",
       "    <tr>\n",
       "      <th>16</th>\n",
       "      <td>T-8</td>\n",
       "      <td>MSL</td>\n",
       "      <td>[[870, 930], [1330, 1370]]</td>\n",
       "      <td>[contextual, contextual]</td>\n",
       "      <td>1519</td>\n",
       "    </tr>\n",
       "    <tr>\n",
       "      <th>17</th>\n",
       "      <td>P-11</td>\n",
       "      <td>MSL</td>\n",
       "      <td>[[1778, 1898], [1238, 1344]]</td>\n",
       "      <td>[point, point]</td>\n",
       "      <td>3535</td>\n",
       "    </tr>\n",
       "  </tbody>\n",
       "</table>\n",
       "</div>"
      ],
      "text/plain": [
       "   chan_id spacecraft                           anomaly_sequences  \\\n",
       "0      P-1       SMAP  [[2149, 2349], [4536, 4844], [3539, 3779]]   \n",
       "1      E-1       SMAP                [[5000, 5030], [5610, 6086]]   \n",
       "2     E-10       SMAP                [[5000, 5050], [5601, 5871]]   \n",
       "3     E-11       SMAP                [[5000, 5050], [5614, 5857]]   \n",
       "4     E-12       SMAP                [[5610, 6141], [5000, 5050]]   \n",
       "5     E-13       SMAP  [[5309, 5410], [5600, 5640], [6449, 6569]]   \n",
       "6      P-4       SMAP   [[950, 1080], [2150, 2350], [4770, 4880]]   \n",
       "7      T-1       SMAP                [[2399, 3898], [6550, 6585]]   \n",
       "8      T-3       SMAP                [[2098, 2180], [5200, 5300]]   \n",
       "9      G-7       SMAP  [[3650, 3750], [5050, 5100], [7560, 7675]]   \n",
       "10     F-7        MSL  [[1250, 1450], [2670, 2790], [3325, 3425]]   \n",
       "11     C-1        MSL                  [[550, 750], [2100, 2210]]   \n",
       "12     C-2        MSL                  [[290, 390], [1540, 1575]]   \n",
       "13    T-13        MSL                  [[690, 790], [1900, 2050]]   \n",
       "14    D-14        MSL                [[1630, 1650], [1800, 2000]]   \n",
       "15     T-9        MSL                    [[780, 810], [890, 970]]   \n",
       "16     T-8        MSL                  [[870, 930], [1330, 1370]]   \n",
       "17    P-11        MSL                [[1778, 1898], [1238, 1344]]   \n",
       "\n",
       "                                   class  num_values  \n",
       "0   [contextual, contextual, contextual]        8505  \n",
       "1               [contextual, contextual]        8516  \n",
       "2               [contextual, contextual]        8505  \n",
       "3               [contextual, contextual]        8514  \n",
       "4               [contextual, contextual]        8512  \n",
       "5   [contextual, contextual, contextual]        8640  \n",
       "6                  [point, point, point]        7783  \n",
       "7                    [point, contextual]        8612  \n",
       "8                         [point, point]        8579  \n",
       "9        [contextual, point, contextual]        8029  \n",
       "10  [contextual, contextual, contextual]        5054  \n",
       "11                   [point, contextual]        2264  \n",
       "12                   [point, contextual]        2051  \n",
       "13              [contextual, contextual]        2430  \n",
       "14                        [point, point]        2625  \n",
       "15                        [point, point]        1096  \n",
       "16              [contextual, contextual]        1519  \n",
       "17                        [point, point]        3535  "
      ]
     },
     "execution_count": 23,
     "metadata": {},
     "output_type": "execute_result"
    }
   ],
   "source": [
    "label_df"
   ]
  },
  {
   "cell_type": "code",
   "execution_count": 24,
   "id": "900c5d22-29d6-49eb-8fc2-d74bdc2e152e",
   "metadata": {},
   "outputs": [],
   "source": [
    "train=[]\n",
    "for root, _, files in os.walk(TRAIN):\n",
    "    for file in files:\n",
    "        if file.split(\".\")[0] in label_df[\"chan_id\"].values:\n",
    "             train.append(os.path.join(root, file))\n",
    "                \n",
    "test=[]\n",
    "for root, _, files in os.walk(TEST):\n",
    "    for file in files:\n",
    "        if file.split(\".\")[0] in label_df[\"chan_id\"].values:\n",
    "             test.append(os.path.join(root, file))\n",
    "                \n",
    "                \n",
    "file_list = list(zip(train, test))"
   ]
  },
  {
   "cell_type": "markdown",
   "id": "01cf2f52-1d55-4114-98d8-7cd0c7034cef",
   "metadata": {
    "tags": []
   },
   "source": [
    "## Get Labels"
   ]
  },
  {
   "cell_type": "code",
   "execution_count": 25,
   "id": "44271e33-0d56-4e7c-b812-c8ca44be5e0f",
   "metadata": {},
   "outputs": [],
   "source": [
    "data_labels = {}\n",
    "\n",
    "for idx, rng in enumerate(label_df[\"anomaly_sequences\"].values):\n",
    "    name = label_df.iloc[idx, 0]\n",
    "    test_arr = np.load(f\"{TEST}{name}.npy\")\n",
    "    \n",
    "    label = np.zeros(len(test_arr))\n",
    "    \n",
    "    for start, end in rng:\n",
    "        label[start:end] = 1\n",
    "    \n",
    "    data_labels.update({name: label})"
   ]
  },
  {
   "cell_type": "markdown",
   "id": "4e4ddcca-adce-4383-b2ab-1f18bde26237",
   "metadata": {
    "tags": []
   },
   "source": [
    "# Visualize"
   ]
  },
  {
   "cell_type": "code",
   "execution_count": null,
   "id": "c76ceefc-97f6-4869-b916-299c5d32a818",
   "metadata": {
    "tags": []
   },
   "outputs": [],
   "source": [
    "for train, test in file_list:\n",
    "    train_arr = np.load(train)\n",
    "    test_arr = np.load(test)\n",
    "    data = np.vstack((train_arr, test_arr))\n",
    "    name = train.split(\"/\")[-1].split(\".\")[0]\n",
    "    print(f\"{name} {'#'*30}\")\n",
    "    \n",
    "    \n",
    "    plt.rcParams[\"figure.figsize\"] = 40, 1 * data.shape[1]\n",
    "    plt.rcParams[\"font.size\"] = 15\n",
    "\n",
    "    \n",
    "    fig, axes = plt.subplots(data.shape[1])\n",
    "    axes[0].set_title(name)\n",
    "\n",
    "    for idx, d in enumerate(data.T):\n",
    "        axes[idx].plot(d)\n",
    "        \n",
    "    labels = label_df[label_df[\"chan_id\"] == name][\"anomaly_sequences\"].values[0]\n",
    "    for start, end in labels:\n",
    "        start += len(train_arr)\n",
    "        end += len(train_arr)\n",
    "        \n",
    "        for ax in axes:\n",
    "            ax.axvspan(start, end, alpha=0.5, color='red')\n",
    "            ax.get_xaxis().set_visible(False)\n",
    "            ax.get_yaxis().set_visible(False)\n",
    "            \n",
    "\n",
    "\n",
    "    axes[-1].get_xaxis().set_visible(True)\n",
    "    plt.tight_layout()\n",
    "    plt.subplots_adjust(wspace=0, hspace=0)\n",
    "    plt.show()"
   ]
  },
  {
   "cell_type": "markdown",
   "id": "7824dc82-712b-43ed-93fd-318569eb2262",
   "metadata": {
    "tags": []
   },
   "source": [
    "# Scoring Helper"
   ]
  },
  {
   "cell_type": "code",
   "execution_count": 13,
   "id": "a412f15e-5dd6-404d-b780-1c33747fc427",
   "metadata": {},
   "outputs": [],
   "source": [
    "class ScoreCounter:\n",
    "    def __init__(self, delay: int=None):\n",
    "        self.tp = 0\n",
    "        self.fp = 0\n",
    "        self.tn = 0\n",
    "        self.fn = 0\n",
    "        \n",
    "        self.delay = delay\n",
    "        \n",
    "        self.point_anom_total = 0\n",
    "        self.point_anom_correct = 0\n",
    "        \n",
    "        self.contextual_anom_total = 0\n",
    "        self.contextual_anom_correct = 0\n",
    "        \n",
    "    def process(self, preds, labels, types):\n",
    "        preds = preds.copy()\n",
    "        labels = labels.copy()\n",
    "        \n",
    "        ground_truth_ones = np.where(labels == 1)[0]\n",
    "        pred_ones = np.where(preds == 1)[0]\n",
    "        ranges = self._consecutive(ground_truth_ones)\n",
    "        \n",
    "        tp, fp, tn, fn = 0, 0, 0, 0\n",
    "        \n",
    "        for idx, r in enumerate(ranges):\n",
    "            intersect = np.intersect1d(r, pred_ones, assume_unique=True)\n",
    "            # if alert delay more than 100 timesteps, count that as bad!\n",
    "            \n",
    "            if types[idx] == \"point\": self.point_anom_total += 1\n",
    "            else: self.contextual_anom_total += 1\n",
    "               \n",
    "            if intersect.size != 0:\n",
    "                cond = intersect[0] < r[0] + self.delay if self.delay is not None else True\n",
    "                if cond:\n",
    "                    tp += r.size\n",
    "                    if types[idx] == \"point\": self.point_anom_correct += 1\n",
    "                    else: self.contextual_anom_correct += 1\n",
    "                else:\n",
    "                    fn += r.size\n",
    " \n",
    "                preds[intersect] = 0\n",
    "                pred_ones = np.where(preds == 1)[0]\n",
    "            else:\n",
    "                fn += r.size\n",
    "            \n",
    "        fp += pred_ones.size\n",
    "        tn += preds.size - tp - fp - fn\n",
    "        \n",
    "        self.tp += tp\n",
    "        self.fp += fp\n",
    "        self.tn += tn\n",
    "        self.fn += fn\n",
    "        \n",
    "        \n",
    "        return\n",
    "        \n",
    "        \n",
    "    def _consecutive(self, data, stepsize=1):\n",
    "        return np.split(data, np.where(np.diff(data) != stepsize)[0]+1)\n",
    "    \n",
    "    \n",
    "    @property\n",
    "    def tpr(self):\n",
    "        return self.tp/(self.fn+self.tp)\n",
    "    \n",
    "    @property\n",
    "    def fpr(self):\n",
    "        return self.fp/(self.tn+self.fp)\n",
    "    \n",
    "    @property\n",
    "    def tnr(self):\n",
    "        return self.tn/(self.tn+self.fp)\n",
    "        \n",
    "    @property\n",
    "    def fnr(self):\n",
    "        return self.fn/(self.fn+self.tp)\n",
    "        \n",
    "    @property\n",
    "    def precision(self):\n",
    "        if self.tp+self.fp == 0: return 0\n",
    "        return self.tp/(self.tp+self.fp)\n",
    "    \n",
    "    @property\n",
    "    def recall(self):\n",
    "        if self.tp+self.fn == 0: return 0\n",
    "        return self.tp/(self.tp+self.fn)\n",
    "    \n",
    "    @property\n",
    "    def f1(self):\n",
    "        if self.recall + self.precision == 0: return 0\n",
    "        return (2*self.precision*self.recall)/(self.precision+self.recall)\n",
    "    \n",
    "    @property\n",
    "    def point_correct(self):\n",
    "        if self.point_anom_total == 0: return 0\n",
    "        return self.point_anom_correct/self.point_anom_total\n",
    "    \n",
    "    @property\n",
    "    def contextual_correct(self):\n",
    "        if self.contextual_anom_total == 0: return 0\n",
    "        return self.contextual_anom_correct/self.contextual_anom_total\n",
    "    \n",
    "    def __str__(self):\n",
    "        return f\"{scorer.tp}, {scorer.fp}, {scorer.tn}, {scorer.fn}, {scorer.tpr}, {scorer.fpr}, {scorer.tnr}, {scorer.fnr}, {scorer.precision}, {scorer.recall}, {scorer.f1}, {scorer.point_correct}, {scorer.contextual_correct}\"\n",
    "    \n",
    "    "
   ]
  },
  {
   "cell_type": "code",
   "execution_count": null,
   "id": "c4010f89-221a-478b-8f6d-3c16bacfc51b",
   "metadata": {},
   "outputs": [],
   "source": [
    "labels = np.append(np.zeros(20), np.full(20, 1))"
   ]
  },
  {
   "cell_type": "code",
   "execution_count": null,
   "id": "6db0b834-d6e8-48b1-8df1-0ccc66d63f04",
   "metadata": {},
   "outputs": [],
   "source": [
    "pred = np.append(np.zeros(30), np.full(10, 1))\n",
    "pred[10] = 1"
   ]
  },
  {
   "cell_type": "code",
   "execution_count": null,
   "id": "1f175664-7c17-4eb8-8eaf-3e2bcc9f6993",
   "metadata": {},
   "outputs": [],
   "source": [
    "tp = 0\n",
    "fp = 1\n",
    "tn = 19\n",
    "fn = 20\n",
    "\n",
    "scorer = ScoreCounter(delay=5)\n",
    "scorer.process(pred, labels, [\"point\"])\n",
    "\n",
    "assert tp == scorer.tp\n",
    "assert fp == scorer.fp\n",
    "assert tn == scorer.tn\n",
    "assert fn == scorer.fn"
   ]
  },
  {
   "cell_type": "markdown",
   "id": "b5f1a345-50da-41d5-87ac-374d3faacc71",
   "metadata": {
    "tags": []
   },
   "source": [
    "# Run Experiments"
   ]
  },
  {
   "cell_type": "markdown",
   "id": "040f6a50-4df2-4699-aa35-6b5527bd80de",
   "metadata": {
    "tags": []
   },
   "source": [
    "## Untuned Baseline"
   ]
  },
  {
   "cell_type": "markdown",
   "id": "5e25650d-a200-44d9-9f80-e67c4b7b825c",
   "metadata": {},
   "source": [
    "### Setup"
   ]
  },
  {
   "cell_type": "code",
   "execution_count": 15,
   "id": "5821ed9e-7c6f-4c78-9491-6164955eadf9",
   "metadata": {},
   "outputs": [],
   "source": [
    "SAVE_DIR = \"../results/multivar-nasa/untuned/\""
   ]
  },
  {
   "cell_type": "code",
   "execution_count": 16,
   "id": "87ba818b-f31f-40da-a972-40a1cd9953d6",
   "metadata": {},
   "outputs": [],
   "source": [
    "DELAY = 50"
   ]
  },
  {
   "cell_type": "markdown",
   "id": "5695ecd0-be38-418c-8291-e6fee886def2",
   "metadata": {},
   "source": [
    "### Single-variate Ensemble"
   ]
  },
  {
   "cell_type": "markdown",
   "id": "313f62e2-eb5f-4021-a5f5-4700bf5df029",
   "metadata": {},
   "source": [
    "#### MA"
   ]
  },
  {
   "cell_type": "code",
   "execution_count": null,
   "id": "cebba815-e318-470a-8285-2392c6f4b9bc",
   "metadata": {
    "tags": []
   },
   "outputs": [],
   "source": [
    "# Moving Average Model\n",
    "model_name = \"ma\"\n",
    "\n",
    "scorer = ScoreCounter(delay=DELAY)\n",
    "for train, test in file_list:\n",
    "    name = train.split(\"/\")[-1].split(\".\")[0]\n",
    "    \n",
    "    train = np.load(train)\n",
    "    test = np.load(test)\n",
    "    labels = data_labels[name]\n",
    "    types = label_df.loc[label_df[\"chan_id\"]==name][\"class\"].values[0]\n",
    "    \n",
    "    params = {\n",
    "        \"window\": 50\n",
    "    }\n",
    "    \n",
    "    window = params[\"window\"]\n",
    "    model = MovingAverageModel(window)\n",
    "    test_extend = np.concatenate((train[-window:], test))\n",
    "    \n",
    "    scores = []\n",
    "    preds = []\n",
    "    for series in test_extend.T:\n",
    "        score = np.abs(model.get_scores(series)[window:])\n",
    "        scores.append(score)\n",
    "\n",
    "        # Get threshold (Not needed for Quantile)\n",
    "        thres = pot(score, 1e-2, 0.95)\n",
    "\n",
    "        pred = score.copy()\n",
    "        pred[pred <= thres] = 0\n",
    "        pred[pred > thres] = 1\n",
    "\n",
    "        preds.append(pred)\n",
    "\n",
    "    scores = np.array(scores).T    \n",
    "    preds = np.any(preds, axis=0)\n",
    "\n",
    "    save = f\"{SAVE_DIR}{model_name}/{name}\"\n",
    "    os.makedirs(SAVE_DIR+model_name, exist_ok=True)\n",
    "    np.savetxt(save+\"-scores.txt\", scores, header=str(params))\n",
    "    np.savetxt(save+\"-preds.txt\", preds, header=str(params))\n",
    "\n",
    "    scorer.process(preds, labels, types)\n",
    "\n",
    "print(scorer)"
   ]
  },
  {
   "cell_type": "markdown",
   "id": "310a717b-d7b2-4141-8cb1-2e06d54e1a26",
   "metadata": {},
   "source": [
    "#### Quantile"
   ]
  },
  {
   "cell_type": "code",
   "execution_count": null,
   "id": "4553212f-9372-4093-a078-33ed13e47f20",
   "metadata": {
    "tags": []
   },
   "outputs": [],
   "source": [
    "model_name = \"quantile\"\n",
    "\n",
    "scorer = ScoreCounter(delay=DELAY)\n",
    "for train, test in file_list:\n",
    "    name = train.split(\"/\")[-1].split(\".\")[0]\n",
    "    \n",
    "    train = np.load(train)\n",
    "    test = np.load(test)\n",
    "    labels = data_labels[name]\n",
    "    types = label_df.loc[label_df[\"chan_id\"]==name][\"class\"].values[0]\n",
    "    \n",
    "    params = {\n",
    "        \"window\": 50\n",
    "    }\n",
    "    \n",
    "    window = params[\"window\"]\n",
    "    model = QuantileModel(window)\n",
    "    test_extend = np.concatenate((train[-window:], test))\n",
    "\n",
    "    scores = []\n",
    "    preds = []\n",
    "    for series in test_extend.T:\n",
    "        score = model.get_scores(series)[window:]\n",
    "        scores.append(score)\n",
    "\n",
    "        # Get threshold (Not needed for Quantile)\n",
    "        \"\"\"\n",
    "        thres = pot(score, 1e-2, 0.95)\n",
    "\n",
    "        pred = score.copy()\n",
    "        pred[pred <= thres] = 0\n",
    "        pred[pred > thres] = 1\n",
    "\n",
    "        preds.append(pred)\n",
    "        \"\"\"\n",
    "        preds.append(score)\n",
    "\n",
    "    scores = np.array(scores).T\n",
    "    preds = np.any(preds, axis=0)\n",
    "\n",
    "    save = f\"{SAVE_DIR}{model_name}/{name}\"\n",
    "    os.makedirs(SAVE_DIR+model_name, exist_ok=True)\n",
    "    np.savetxt(save+\"-scores.txt\", scores, header=str(params))\n",
    "    np.savetxt(save+\"-preds.txt\", preds, header=str(params))\n",
    "\n",
    "    scorer.process(preds, labels, types)\n",
    "\n",
    "print(scorer)"
   ]
  },
  {
   "cell_type": "markdown",
   "id": "3a6727e8-f757-4a95-82f5-b44d4819b408",
   "metadata": {},
   "source": [
    "#### Regression"
   ]
  },
  {
   "cell_type": "code",
   "execution_count": null,
   "id": "c3f8f376-f2bb-4542-9e74-b805e1a04d76",
   "metadata": {
    "tags": []
   },
   "outputs": [],
   "source": [
    "import warnings\n",
    "warnings.filterwarnings('ignore')\n",
    "\n",
    "\n",
    "model_name = \"regression\"\n",
    "\n",
    "scorer = ScoreCounter(delay=DELAY)\n",
    "for train, test in file_list:\n",
    "    name = train.split(\"/\")[-1].split(\".\")[0]\n",
    "    \n",
    "    train = np.load(train)\n",
    "    test = np.load(test)\n",
    "    labels = data_labels[name]\n",
    "    types = label_df.loc[label_df[\"chan_id\"]==name][\"class\"].values[0]\n",
    "    \n",
    "    params = {\n",
    "        \"window\": 50\n",
    "    }\n",
    "    \n",
    "    window = params[\"window\"]\n",
    "    model = RegressionModel(window)\n",
    "    test_extend = np.concatenate((train[-window:], test))\n",
    "\n",
    "    scores = []\n",
    "    preds = []\n",
    "    for idx, series in enumerate(test_extend.T):\n",
    "        model = RegressionModel(window)\n",
    "        model.fit(train.T[idx])\n",
    "\n",
    "        score = model.get_scores(series)[0].flatten()\n",
    "        scores.append(score)\n",
    "\n",
    "        # Get threshold (Not needed for Quantile)\n",
    "        thres = pot(score, 1e-2, 0.95)\n",
    "\n",
    "        pred = score.copy()\n",
    "        pred[pred <= thres] = 0\n",
    "        pred[pred > thres] = 1\n",
    "\n",
    "        preds.append(pred)\n",
    "\n",
    "\n",
    "    scores = np.array(scores).T\n",
    "    preds = np.any(preds, axis=0)\n",
    "\n",
    "    save = f\"{SAVE_DIR}{model_name}/{name}\"\n",
    "    os.makedirs(SAVE_DIR+model_name, exist_ok=True)\n",
    "    np.savetxt(save+\"-scores.txt\", scores, header=str(params))\n",
    "    np.savetxt(save+\"-preds.txt\", preds, header=str(params))\n",
    "\n",
    "    scorer.process(preds, labels, types)\n",
    "\n",
    "print(scorer)\n",
    "\n"
   ]
  },
  {
   "cell_type": "markdown",
   "id": "3eeb1514-bb3b-4ce7-8a69-6c3f0205231d",
   "metadata": {},
   "source": [
    "#### ARIMA"
   ]
  },
  {
   "cell_type": "code",
   "execution_count": null,
   "id": "3ba60459-6dfb-4a56-9164-ecc5862a249d",
   "metadata": {
    "tags": []
   },
   "outputs": [],
   "source": [
    "\"\"\"\n",
    "model_name = \"arima\"\n",
    "scorer = ScoreCounter(delay=DELAY)\n",
    "\n",
    "for train, test in file_list:\n",
    "    name = train.split(\"/\")[-1].split(\".\")[0]\n",
    "    \n",
    "    train = np.load(train)\n",
    "    test = np.load(test)\n",
    "    labels = data_labels[name]\n",
    "    types = label_df.loc[label_df[\"chan_id\"]==name][\"class\"].values[0]\n",
    "    \n",
    "    params = {\n",
    "        \"p\": 1,\n",
    "        \"d\": 1,\n",
    "        \"q\": 2\n",
    "    }\n",
    "    \n",
    "    test_extend = np.concatenate((train[-window:], test))\n",
    "\n",
    "    preds = []\n",
    "    for idx, series in enumerate(test_extend.T):\n",
    "        model = ARIMAModel(params[\"p\"], params[\"d\"], params[\"q\"])\n",
    "        model.fit(train.T[idx])\n",
    "\n",
    "        score = model.get_scores(series).flatten()[window:]\n",
    "\n",
    "        # Get threshold (Not needed for Quantile)\n",
    "        thres = pot(score, 1e-2, 0.95)\n",
    "\n",
    "        pred = score.copy()\n",
    "        pred[pred <= thres] = 0\n",
    "        pred[pred > thres] = 1\n",
    "\n",
    "        preds.append(pred)\n",
    "\n",
    "    ind_preds = np.array(preds)    \n",
    "    preds = np.any(preds, axis=0)\n",
    "    \n",
    "    save = f\"{SAVE_DIR}{model_name}/{name}\"\n",
    "    os.makedirs(SAVE_DIR+model_name, exist_ok=True)\n",
    "    np.savetxt(save+\"-individual_preds.txt\", ind_preds, header=str(params))\n",
    "    np.savetxt(save+\"-preds.txt\", preds, header=str(params))\n",
    "\n",
    "    scorer.process(preds, labels, types)\n",
    "\n",
    "print(scorer)\n",
    "\"\"\""
   ]
  },
  {
   "cell_type": "markdown",
   "id": "06096447-7ba8-4f5a-bd65-7c75960997f7",
   "metadata": {},
   "source": [
    "### Multivariate Native"
   ]
  },
  {
   "cell_type": "markdown",
   "id": "d7f13aba-af9d-4681-9c81-b438364728da",
   "metadata": {},
   "source": [
    "#### IForest"
   ]
  },
  {
   "cell_type": "code",
   "execution_count": null,
   "id": "72dcecec-3600-48b4-8b1f-9446e51b8826",
   "metadata": {
    "tags": []
   },
   "outputs": [],
   "source": [
    "import warnings\n",
    "warnings.filterwarnings(\"ignore\", category=RuntimeWarning) \n",
    "\n",
    "\n",
    "model_name = \"iforest\"\n",
    "scorer = ScoreCounter(delay=DELAY)\n",
    "\n",
    "for train, test in file_list:\n",
    "    name = train.split(\"/\")[-1].split(\".\")[0]\n",
    "    \n",
    "    train = np.load(train)\n",
    "    test = np.load(test)\n",
    "    labels = data_labels[name]\n",
    "    types = label_df.loc[label_df[\"chan_id\"]==name][\"class\"].values[0]\n",
    "    \n",
    "    params = {\n",
    "        \"window\": 50,\n",
    "    }\n",
    "    window = params[\"window\"]\n",
    "    test_extend = np.concatenate((train[-window:], test))\n",
    "    model = IsolationForestModel(window)\n",
    "    model.fit(train)\n",
    "    score = model.get_scores(test_extend).flatten()[window:]\n",
    "    \n",
    "    # Get threshold (Not needed for Quantile)\n",
    "    thres = pot(score, 1e-2, 0.95)\n",
    "\n",
    "    pred = score.copy()\n",
    "    pred[pred <= thres] = 0\n",
    "    pred[pred > thres] = 1\n",
    "    \n",
    "\n",
    "\n",
    "    save = f\"{SAVE_DIR}{model_name}/{name}\"\n",
    "    os.makedirs(SAVE_DIR+model_name, exist_ok=True)\n",
    "    np.savetxt(save+\"-scores.txt\", score, header=str(params))\n",
    "    np.savetxt(save+\"-preds.txt\", pred, header=str(params))\n",
    "\n",
    "    scorer.process(pred, labels, types)\n",
    "print(scorer)"
   ]
  },
  {
   "cell_type": "markdown",
   "id": "296e08d8-43e7-498d-973e-38621027b841",
   "metadata": {},
   "source": [
    "#### NBEATS"
   ]
  },
  {
   "cell_type": "code",
   "execution_count": null,
   "id": "1a8a71d6-6a88-4d37-a8f8-029fe29c6b64",
   "metadata": {
    "tags": []
   },
   "outputs": [],
   "source": [
    "%%capture\n",
    "import warnings\n",
    "warnings.filterwarnings(\"ignore\", category=RuntimeWarning) \n",
    "\n",
    "\n",
    "model_name = \"nbeats\"\n",
    "scorer = ScoreCounter(delay=DELAY)\n",
    "\n",
    "for train, test in file_list:\n",
    "    name = train.split(\"/\")[-1].split(\".\")[0]\n",
    "\n",
    "    train = np.load(train)\n",
    "    test = np.load(test)\n",
    "    labels = data_labels[name]\n",
    "    types = label_df.loc[label_df[\"chan_id\"]==name][\"class\"].values[0]\n",
    "\n",
    "    params = {\n",
    "        \"window\": 50,\n",
    "    }\n",
    "\n",
    "    window = params[\"window\"]\n",
    "    test_extend = np.concatenate((train[-window:], test))\n",
    "    model = NBEATSModel(window, use_gpu=True)\n",
    "    model.fit(train)\n",
    "    score = model.get_scores(test_extend)[0].flatten()\n",
    "    res = model.get_scores(test_extend)[1]\n",
    "    \n",
    "    assert len(score) == len(labels)\n",
    "\n",
    "    # Get threshold (Not needed for Quantile)\n",
    "    thres = pot(score, 1e-2, 0.95)\n",
    "\n",
    "    pred = score.copy()\n",
    "    pred[pred <= thres] = 0\n",
    "    pred[pred > thres] = 1\n",
    "\n",
    "\n",
    "\n",
    "    save = f\"{SAVE_DIR}{model_name}/{name}\"\n",
    "    os.makedirs(SAVE_DIR+model_name, exist_ok=True)\n",
    "    np.savetxt(save+\"-scores.txt\", res, header=str(params))\n",
    "    np.savetxt(save+\"-preds.txt\", pred, header=str(params))\n",
    "\n",
    "    scorer.process(pred, labels, types)\n",
    "print(scorer)"
   ]
  },
  {
   "cell_type": "markdown",
   "id": "b202c369-e49b-47c5-98b1-6df36fb148cc",
   "metadata": {},
   "source": [
    "#### NHiTS"
   ]
  },
  {
   "cell_type": "code",
   "execution_count": null,
   "id": "1ec84d7f-a3d9-4db8-96be-40fbbdf05389",
   "metadata": {
    "tags": []
   },
   "outputs": [],
   "source": [
    "%%capture\n",
    "import warnings\n",
    "warnings.filterwarnings(\"ignore\", category=RuntimeWarning) \n",
    "\n",
    "\n",
    "model_name = \"nhits\"\n",
    "scorer = ScoreCounter(delay=DELAY)\n",
    "\n",
    "for train, test in file_list:\n",
    "    name = train.split(\"/\")[-1].split(\".\")[0]\n",
    "\n",
    "    train = np.load(train)\n",
    "    test = np.load(test)\n",
    "    labels = data_labels[name]\n",
    "    types = label_df.loc[label_df[\"chan_id\"]==name][\"class\"].values[0]\n",
    "\n",
    "    params = {\n",
    "        \"window\": 50,\n",
    "    }\n",
    "\n",
    "    window = params[\"window\"]\n",
    "    test_extend = np.concatenate((train[-window:], test))\n",
    "    model = NHiTSModel(window, use_gpu=True)\n",
    "    model.fit(train)\n",
    "    score = model.get_scores(test_extend)[0].flatten()\n",
    "    res = model.get_scores(test_extend)[1]\n",
    "    \n",
    "    assert len(score) == len(labels)\n",
    "\n",
    "    # Get threshold (Not needed for Quantile)\n",
    "    thres = pot(score, 1e-2, 0.95)\n",
    "\n",
    "    pred = score.copy()\n",
    "    pred[pred <= thres] = 0\n",
    "    pred[pred > thres] = 1\n",
    "\n",
    "\n",
    "\n",
    "    save = f\"{SAVE_DIR}{model_name}/{name}\"\n",
    "    os.makedirs(SAVE_DIR+model_name, exist_ok=True)\n",
    "    np.savetxt(save+\"-scores.txt\", res, header=str(params))\n",
    "    np.savetxt(save+\"-preds.txt\", pred, header=str(params))\n",
    "\n",
    "    scorer.process(pred, labels, types)\n",
    "print(scorer)"
   ]
  },
  {
   "cell_type": "markdown",
   "id": "4571c93b-f059-47b2-a7e0-d3b3e5b63ac7",
   "metadata": {},
   "source": [
    "#### RNN-GRU"
   ]
  },
  {
   "cell_type": "code",
   "execution_count": null,
   "id": "0d2a4764-bedd-45f6-ae26-6df77175501c",
   "metadata": {
    "tags": []
   },
   "outputs": [],
   "source": [
    "%%capture\n",
    "import warnings\n",
    "warnings.filterwarnings(\"ignore\", category=RuntimeWarning) \n",
    "\n",
    "\n",
    "model_name = \"rnn_gru\"\n",
    "scorer = ScoreCounter(delay=DELAY)\n",
    "\n",
    "for train, test in file_list:\n",
    "    name = train.split(\"/\")[-1].split(\".\")[0]\n",
    "\n",
    "    train = np.load(train)\n",
    "    test = np.load(test)\n",
    "    labels = data_labels[name]\n",
    "    types = label_df.loc[label_df[\"chan_id\"]==name][\"class\"].values[0]\n",
    "\n",
    "    params = {\n",
    "        \"window\": 50,\n",
    "    }\n",
    "\n",
    "    window = params[\"window\"]\n",
    "    test_extend = np.concatenate((train[-window:], test))\n",
    "    model = RNNModel(window, use_gpu=True, rnn_model=\"GRU\")\n",
    "    model.fit(train)\n",
    "    score = model.get_scores(test_extend)[0].flatten()\n",
    "    res = model.get_scores(test_extend)[1]\n",
    "    \n",
    "    assert len(score) == len(labels)\n",
    "\n",
    "    # Get threshold (Not needed for Quantile)\n",
    "    thres = pot(score, 1e-2, 0.95)\n",
    "\n",
    "    pred = score.copy()\n",
    "    pred[pred <= thres] = 0\n",
    "    pred[pred > thres] = 1\n",
    "\n",
    "\n",
    "\n",
    "    save = f\"{SAVE_DIR}{model_name}/{name}\"\n",
    "    os.makedirs(SAVE_DIR+model_name, exist_ok=True)\n",
    "    np.savetxt(save+\"-scores.txt\", res, header=str(params))\n",
    "    np.savetxt(save+\"-preds.txt\", pred, header=str(params))\n",
    "\n",
    "    scorer.process(pred, labels, types)\n",
    "print(scorer)"
   ]
  },
  {
   "cell_type": "markdown",
   "id": "6db9e5d5-ae2e-49ba-adb0-5308e1a8f721",
   "metadata": {},
   "source": [
    "#### TCN"
   ]
  },
  {
   "cell_type": "code",
   "execution_count": null,
   "id": "7fbd25c9-bca5-449d-829a-bc0c2c21c35c",
   "metadata": {
    "tags": []
   },
   "outputs": [],
   "source": [
    "%%capture\n",
    "import warnings\n",
    "warnings.filterwarnings(\"ignore\", category=RuntimeWarning) \n",
    "\n",
    "\n",
    "model_name = \"tcn\"\n",
    "scorer = ScoreCounter(delay=DELAY)\n",
    "\n",
    "for train, test in file_list:\n",
    "    name = train.split(\"/\")[-1].split(\".\")[0]\n",
    "\n",
    "    train = np.load(train)\n",
    "    test = np.load(test)\n",
    "    labels = data_labels[name]\n",
    "    types = label_df.loc[label_df[\"chan_id\"]==name][\"class\"].values[0]\n",
    "\n",
    "    params = {\n",
    "        \"window\": 50,\n",
    "    }\n",
    "\n",
    "    window = params[\"window\"]\n",
    "    test_extend = np.concatenate((train[-window:], test))\n",
    "    model = TCNModel(window, use_gpu=True)\n",
    "    # EPOCHS = 30\n",
    "    model.fit(train)\n",
    "    model.fit(train)\n",
    "    score = model.get_scores(test_extend)[0].flatten()\n",
    "    res = model.get_scores(test_extend)[1]\n",
    "    \n",
    "    assert len(score) == len(labels)\n",
    "\n",
    "    # Get threshold (Not needed for Quantile)\n",
    "    thres = pot(score, 1e-2, 0.95)\n",
    "\n",
    "    pred = score.copy()\n",
    "    pred[pred <= thres] = 0\n",
    "    pred[pred > thres] = 1\n",
    "\n",
    "\n",
    "\n",
    "    save = f\"{SAVE_DIR}{model_name}/{name}\"\n",
    "    os.makedirs(SAVE_DIR+model_name, exist_ok=True)\n",
    "    np.savetxt(save+\"-scores.txt\", res, header=str(params))\n",
    "    np.savetxt(save+\"-preds.txt\", pred, header=str(params))\n",
    "\n",
    "    scorer.process(pred, labels, types)\n",
    "print(scorer)"
   ]
  },
  {
   "cell_type": "markdown",
   "id": "b7292a03-b4cc-4fed-bafe-52bed3745c6f",
   "metadata": {},
   "source": [
    "#### Transformer"
   ]
  },
  {
   "cell_type": "code",
   "execution_count": null,
   "id": "d3c64e93-e66b-42b4-980e-02810a53bd7c",
   "metadata": {
    "tags": []
   },
   "outputs": [],
   "source": [
    "%%capture\n",
    "import warnings\n",
    "warnings.filterwarnings(\"ignore\", category=RuntimeWarning) \n",
    "\n",
    "\n",
    "model_name = \"transformer\"\n",
    "scorer = ScoreCounter(delay=DELAY)\n",
    "\n",
    "for train, test in file_list:\n",
    "    name = train.split(\"/\")[-1].split(\".\")[0]\n",
    "\n",
    "    train = np.load(train)\n",
    "    test = np.load(test)\n",
    "    labels = data_labels[name]\n",
    "    types = label_df.loc[label_df[\"chan_id\"]==name][\"class\"].values[0]\n",
    "\n",
    "    params = {\n",
    "        \"window\": 50,\n",
    "    }\n",
    "\n",
    "    window = params[\"window\"]\n",
    "    test_extend = np.concatenate((train[-window:], test))\n",
    "    model = TransformerModel(window, use_gpu=True)\n",
    "    # EPOCHS = 30\n",
    "    model.fit(train)\n",
    "    model.fit(train)\n",
    "    score = model.get_scores(test_extend)[0].flatten()\n",
    "    res = model.get_scores(test_extend)[1]\n",
    "    \n",
    "    assert len(score) == len(labels)\n",
    "\n",
    "    # Get threshold (Not needed for Quantile)\n",
    "    thres = pot(score, 1e-2, 0.95)\n",
    "\n",
    "    pred = score.copy()\n",
    "    pred[pred <= thres] = 0\n",
    "    pred[pred > thres] = 1\n",
    "\n",
    "\n",
    "\n",
    "    save = f\"{SAVE_DIR}{model_name}/{name}\"\n",
    "    os.makedirs(SAVE_DIR+model_name, exist_ok=True)\n",
    "    np.savetxt(save+\"-scores.txt\", res, header=str(params))\n",
    "    np.savetxt(save+\"-preds.txt\", pred, header=str(params))\n",
    "\n",
    "    scorer.process(pred, labels, types)\n",
    "print(scorer)"
   ]
  },
  {
   "cell_type": "markdown",
   "id": "ea7a7586-1d10-4bc7-8a8a-628419e6dca3",
   "metadata": {},
   "source": [
    "#### TranAD"
   ]
  },
  {
   "cell_type": "code",
   "execution_count": null,
   "id": "29c44699-c35f-400e-a1ef-171866b8601e",
   "metadata": {
    "tags": []
   },
   "outputs": [],
   "source": [
    "# %%capture\n",
    "# import warnings\n",
    "# warnings.filterwarnings(\"ignore\", category=RuntimeWarning) \n",
    "\n",
    "\n",
    "model_name = \"tranad\"\n",
    "scorer = ScoreCounter(delay=DELAY)\n",
    "\n",
    "for train, test in file_list:\n",
    "    name = train.split(\"/\")[-1].split(\".\")[0]\n",
    "\n",
    "    train = np.load(train)\n",
    "    test = np.load(test)\n",
    "    labels = data_labels[name]\n",
    "    types = label_df.loc[label_df[\"chan_id\"]==name][\"class\"].values[0]\n",
    "    \n",
    "    params = {\n",
    "        \"window\": 50,\n",
    "    }\n",
    "\n",
    "    window = params[\"window\"]\n",
    "    \n",
    "    test_extend = np.concatenate((train[-window:], test))\n",
    "    \n",
    "    model = TranADModel(window, use_gpu=True)\n",
    "    model.fit(train)\n",
    "    scores = model.get_scores(test_extend)[window:]\n",
    "    \n",
    "\n",
    "    # Get threshold (Not needed for Quantile)\n",
    "    score = scores.sum(axis=1)\n",
    "    thres = pot(score, 1e-2, 0.95)\n",
    "\n",
    "    pred = score.copy()\n",
    "    pred[pred <= thres] = 0\n",
    "    pred[pred > thres] = 1\n",
    "\n",
    "    save = f\"{SAVE_DIR}{model_name}/{name}\"\n",
    "    os.makedirs(SAVE_DIR+model_name, exist_ok=True)\n",
    "    np.savetxt(save+\"-scores.txt\", scores, header=str(params))\n",
    "    np.savetxt(save+\"-preds.txt\", pred, header=str(params))\n",
    "\n",
    "    scorer.process(pred, labels, types)\n",
    "    \n",
    "print(scorer)"
   ]
  },
  {
   "cell_type": "markdown",
   "id": "3feba0b8-dbc8-4dfb-9e9e-200254de5f2f",
   "metadata": {},
   "source": [
    "#### FluxEV"
   ]
  },
  {
   "cell_type": "markdown",
   "id": "dd8bbf88-b492-4aca-8244-4cdd8e09759c",
   "metadata": {},
   "source": [
    "#### FluxEV"
   ]
  },
  {
   "cell_type": "code",
   "execution_count": null,
   "id": "b4cba530-a727-4871-9d5f-71b4ccf97025",
   "metadata": {},
   "outputs": [],
   "source": []
  },
  {
   "cell_type": "markdown",
   "id": "ab661b1b-80f7-4901-9e16-f20c3abde9ef",
   "metadata": {},
   "source": [
    "# Load Results"
   ]
  },
  {
   "cell_type": "markdown",
   "id": "fbc699d3-55cf-49dd-a4e5-bb91d5bc2073",
   "metadata": {},
   "source": [
    "## Untuned"
   ]
  },
  {
   "cell_type": "code",
   "execution_count": 63,
   "id": "5f3d27ce-179c-4d0d-bcf9-2cfa684092ba",
   "metadata": {
    "tags": []
   },
   "outputs": [
    {
     "name": "stdout",
     "output_type": "stream",
     "text": [
      "1594, 1479, 51524, 1548, 0.5073201782304265, 0.027904080901081072, 0.9720959190989189, 0.49267982176957353, 0.5187113569801497, 0.5073201782304265, 0.5129525341914724, 0.2, 0.46153846153846156\n"
     ]
    }
   ],
   "source": [
    "method = \"rnn_gru\"\n",
    "\n",
    "#######################\n",
    "SAVE_DIR = \"../results/multivar-nasa/untuned/\"\n",
    "method += \"/\"\n",
    "l = [i for i in get_files_from_path(SAVE_DIR+method) if \"scores\" not in i]\n",
    "scorer = ScoreCounter(delay=DELAY)\n",
    "for f in l:\n",
    "    name = \"-\".join(f.split(\"-\")[:2])\n",
    "    idx = [name in i[0] for i in file_list].index(True)\n",
    "    \n",
    "    path = file_list[idx][1]\n",
    "    data = np.load(path)\n",
    "    preds = np.loadtxt(SAVE_DIR+method+f)\n",
    "    label = data_labels[name][-len(preds):]\n",
    "    types = label_df.loc[label_df[\"chan_id\"]==name][\"class\"].values[0]\n",
    "    \n",
    "    \n",
    "    scorer.process(preds, label, types)\n",
    "    \n",
    "print(scorer)"
   ]
  },
  {
   "cell_type": "markdown",
   "id": "a9e4e116-c435-419c-969c-e8f44dafebdb",
   "metadata": {},
   "source": [
    "## F1 - 50%"
   ]
  },
  {
   "cell_type": "code",
   "execution_count": null,
   "id": "59ed534e-1bde-40d9-9b30-43e96b941839",
   "metadata": {
    "tags": []
   },
   "outputs": [],
   "source": [
    "method = \"regression\"\n",
    "\n",
    "#######################\n",
    "SAVE_DIR = \"../results/multivar-nasa/f1tuned-1anom/\"\n",
    "method += \"/\"\n",
    "l = [i for i in get_files_from_path(SAVE_DIR+method) if \"scores\" not in i]\n",
    "scorer = ScoreCounter(delay=DELAY)\n",
    "for f in l:\n",
    "    name = \"-\".join(f.split(\"-\")[:2])\n",
    "    idx = [name in i[0] for i in file_list].index(True)\n",
    "    \n",
    "    path = file_list[idx][1]\n",
    "    data = np.load(path)\n",
    "    label = data_labels[name]\n",
    "    types = label_df.loc[label_df[\"chan_id\"]==name][\"class\"].values[0]\n",
    "    \n",
    "    preds = np.loadtxt(SAVE_DIR+method+f)\n",
    "    \n",
    "    scorer.process(preds, label, types)\n",
    "    \n",
    "print(scorer)"
   ]
  },
  {
   "cell_type": "code",
   "execution_count": null,
   "id": "d367416b-3ba5-4b9e-a5f7-889ede498230",
   "metadata": {},
   "outputs": [],
   "source": []
  },
  {
   "cell_type": "markdown",
   "id": "ea76bac4-51fb-44dd-960d-8950103e40c4",
   "metadata": {},
   "source": [
    "# Fix Results"
   ]
  },
  {
   "cell_type": "markdown",
   "id": "8f9804c9-71dd-43f8-bc6b-4cdd6dd0847d",
   "metadata": {},
   "source": [
    "## Untuned"
   ]
  },
  {
   "cell_type": "code",
   "execution_count": 141,
   "id": "6af920c1-e07a-4a18-8938-48dd92471cf0",
   "metadata": {
    "tags": []
   },
   "outputs": [
    {
     "name": "stdout",
     "output_type": "stream",
     "text": [
      "2977, 7927, 45076, 165, 0.9474856779121579, 0.14955757221289362, 0.8504424277871064, 0.05251432208784214, 0.27301907556859867, 0.9474856779121579, 0.4238929232521714, 0.8, 0.8461538461538461\n"
     ]
    }
   ],
   "source": [
    "import json\n",
    "method = \"quantile\"\n",
    "\n",
    "#######################\n",
    "SAVE_DIR = \"../results/multivar-nasa/f1tuned-1anom/\"\n",
    "method += \"/\"\n",
    "l = [i for i in get_files_from_path(SAVE_DIR+method) if \"scores\" not in i]\n",
    "scorer = ScoreCounter(delay=DELAY)\n",
    "for f in l:\n",
    "    name = \"-\".join(f.split(\"-\")[:2])\n",
    "    tune_len = label_df.loc[label_df[\"chan_id\"]==name][\"anomaly_sequences\"].values[0][0][1] + 1\n",
    "    idx = [name in i[0] for i in file_list].index(True)\n",
    "    \n",
    "    path = file_list[idx][1]\n",
    "    data = np.load(path)\n",
    "    label = data_labels[name][tune_len:]\n",
    "    types = label_df.loc[label_df[\"chan_id\"]==name][\"class\"].values[0][0:]\n",
    "    \n",
    "    scores = np.loadtxt(SAVE_DIR+method+f.replace(\"preds\", \"scores\"))[tune_len:]\n",
    "    preds = np.loadtxt(SAVE_DIR+method+f)[tune_len:]\n",
    "   \n",
    "    with open(SAVE_DIR+f\"{method}\"+f.replace(\"preds\", \"scores\")) as file:\n",
    "        params = file.readline()\n",
    "\n",
    "    if \"#\" not in params: print(\"need to be redone\"); break\n",
    "\n",
    "    params = params.replace(\"# \", \"\")\n",
    "    params = params.replace(\"'\", '\"')\n",
    "    params = json.loads(params)\n",
    "\n",
    "    save = f\"{SAVE_DIR}{method.replace('/','')}/{name}\"\n",
    "    np.savetxt(save+\"-scores.txt\", scores, header=str(params))\n",
    "    np.savetxt(save+\"-preds.txt\", preds, header=str(params))\n",
    "    \n",
    "    scorer.process(preds, label, types)\n",
    "    \n",
    "    \n",
    "print(scorer)"
   ]
  },
  {
   "cell_type": "code",
   "execution_count": 68,
   "id": "0df86e0b-93e1-436d-b949-a5aab803c751",
   "metadata": {},
   "outputs": [],
   "source": [
    "arr = np.random.random(size=(100,2))"
   ]
  },
  {
   "cell_type": "code",
   "execution_count": 71,
   "id": "b329b1d5-839f-4170-95f4-77272922c8f6",
   "metadata": {},
   "outputs": [
    {
     "data": {
      "text/plain": [
       "0.9937401669458378"
      ]
     },
     "execution_count": 71,
     "metadata": {},
     "output_type": "execute_result"
    }
   ],
   "source": [
    "pot(arr, 1e-02, )"
   ]
  },
  {
   "cell_type": "code",
   "execution_count": 110,
   "id": "76308eb4-4fed-45a2-a83f-3dcaf138a3af",
   "metadata": {},
   "outputs": [
    {
     "data": {
      "text/plain": [
       "[<matplotlib.lines.Line2D at 0x7f5958758370>]"
      ]
     },
     "execution_count": 110,
     "metadata": {},
     "output_type": "execute_result"
    },
    {
     "data": {
      "image/png": "[encoded data removed]",
      "text/plain": [
       "<Figure size 432x288 with 1 Axes>"
      ]
     },
     "metadata": {
      "needs_background": "light"
     },
     "output_type": "display_data"
    }
   ],
   "source": [
    "plt.plot(scores_test)"
   ]
  },
  {
   "cell_type": "code",
   "execution_count": null,
   "id": "2a18e326-3f23-427a-b250-e8bc5ab210ba",
   "metadata": {},
   "outputs": [],
   "source": []
  }
 ],
 "metadata": {
  "kernelspec": {
   "display_name": "Python 3 (ipykernel)",
   "language": "python",
   "name": "python3"
  },
  "language_info": {
   "codemirror_mode": {
    "name": "ipython",
    "version": 3
   },
   "file_extension": ".py",
   "mimetype": "text/x-python",
   "name": "python",
   "nbconvert_exporter": "python",
   "pygments_lexer": "ipython3",
   "version": "3.9.12"
  }
 },
 "nbformat": 4,
 "nbformat_minor": 5
}
