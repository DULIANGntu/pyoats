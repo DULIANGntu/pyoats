{
 "cells": [
  {
   "cell_type": "code",
   "execution_count": null,
   "id": "c3e77539-68f5-4b9d-8075-bb850dee826e",
   "metadata": {},
   "outputs": [],
   "source": [
    "import numpy as np\n",
    "import matplotlib.pyplot as plt"
   ]
  },
  {
   "cell_type": "code",
   "execution_count": null,
   "id": "ba5f8825-b643-4354-8e9b-0d6160f6d813",
   "metadata": {},
   "outputs": [],
   "source": [
    "%matplotlib inline"
   ]
  },
  {
   "cell_type": "code",
   "execution_count": null,
   "id": "64f294b9-bedf-4959-b22b-9d5faef68324",
   "metadata": {},
   "outputs": [],
   "source": [
    "plt.rcParams[\"figure.figsize\"] = 40,10\n",
    "plt.rcParams[\"font.size\"] = 15"
   ]
  },
  {
   "cell_type": "code",
   "execution_count": null,
   "id": "1596a2d5-d1b6-4973-9cae-343192e5a5da",
   "metadata": {},
   "outputs": [],
   "source": [
    "from one.utils import *\n",
    "from one.data.ucrdata import UcrDataReader"
   ]
  },
  {
   "cell_type": "code",
   "execution_count": null,
   "id": "92f4b7bb-4a6e-40ff-ac3c-238d5448185d",
   "metadata": {},
   "outputs": [],
   "source": [
    "ROOT_DIR = \"./data/ucr/\"\n",
    "t = get_files_from_path(\"./data/ucr\")"
   ]
  },
  {
   "cell_type": "code",
   "execution_count": null,
   "id": "c70c1cf8-b7a4-4eeb-9cbe-81373b73699a",
   "metadata": {},
   "outputs": [],
   "source": [
    "d = UcrDataReader()\n",
    "test = d(ROOT_DIR+t[29])"
   ]
  },
  {
   "cell_type": "code",
   "execution_count": null,
   "id": "6ef9f41f-9a8d-46c7-a319-18e52c7f1e0b",
   "metadata": {},
   "outputs": [],
   "source": [
    "p = graph_data(test.series, test.labels, test.train_len)"
   ]
  },
  {
   "cell_type": "code",
   "execution_count": null,
   "id": "b70bd5e1-499f-4a5b-935d-59e4778df086",
   "metadata": {},
   "outputs": [],
   "source": []
  },
  {
   "cell_type": "code",
   "execution_count": null,
   "id": "700b0bc1-2b2b-4530-9904-cf5f57c22668",
   "metadata": {},
   "outputs": [],
   "source": []
  },
  {
   "cell_type": "code",
   "execution_count": null,
   "id": "af619eac-f789-4dc0-8ba6-744933c06065",
   "metadata": {},
   "outputs": [],
   "source": []
  },
  {
   "cell_type": "code",
   "execution_count": null,
   "id": "7a74a214-74c2-4ae3-b4ca-abcd3204d12c",
   "metadata": {},
   "outputs": [],
   "source": [
    "tr_data, tr_label = test.train"
   ]
  },
  {
   "cell_type": "code",
   "execution_count": null,
   "id": "9e1821ef-1557-4fe8-bc69-3aecbb6a44be",
   "metadata": {},
   "outputs": [],
   "source": [
    "from darts.models import TransformerModel\n",
    "from darts.timeseries import TimeSeries\n",
    "from numpy.lib.stride_tricks import sliding_window_view"
   ]
  },
  {
   "cell_type": "code",
   "execution_count": null,
   "id": "f38f1581-d2e6-4603-a2f4-8f14a213d6c2",
   "metadata": {},
   "outputs": [],
   "source": []
  },
  {
   "cell_type": "code",
   "execution_count": null,
   "id": "fc07c4c6-acc3-4f1f-8113-ff23c41d7bc7",
   "metadata": {},
   "outputs": [],
   "source": [
    "import warnings\n",
    "warnings.filterwarnings('ignore')\n"
   ]
  },
  {
   "cell_type": "code",
   "execution_count": null,
   "id": "0dfee0f1-e157-4efc-8d4e-e504385eac85",
   "metadata": {},
   "outputs": [],
   "source": [
    "from rich.progress import track, Progress"
   ]
  },
  {
   "cell_type": "code",
   "execution_count": null,
   "id": "3a8a009d-acbe-4582-b941-1fb1363f69b5",
   "metadata": {},
   "outputs": [],
   "source": [
    "from darts.datasets import *\n",
    "from darts.dataprocessing.transformers import Scaler\n",
    "from pytorch_lightning.callbacks.early_stopping import EarlyStopping"
   ]
  },
  {
   "cell_type": "code",
   "execution_count": null,
   "id": "811657b5-45a6-4d6f-9142-b5530a96a9e7",
   "metadata": {},
   "outputs": [],
   "source": [
    "scaler = Scaler()"
   ]
  },
  {
   "cell_type": "code",
   "execution_count": null,
   "id": "afdb231e-da19-4c03-b472-3f9b06c5df14",
   "metadata": {},
   "outputs": [],
   "source": [
    "w = 100\n",
    "s = 1\n",
    "\n",
    "series = TimeSeries.from_values(test.series)\n",
    "series = scaler.fit_transform(series)\n",
    "series = series.pd_series().to_numpy().astype(np.float32)\n",
    "\n",
    "full = series[test.train_len-w:]\n",
    "full_window = sliding_window_view(full, w)\n",
    "full_window = full_window[::s]\n",
    "\n",
    "preds = np.array([])"
   ]
  },
  {
   "cell_type": "code",
   "execution_count": null,
   "id": "ef6d3c8f-afbc-405f-bf1c-ca7923a71169",
   "metadata": {},
   "outputs": [],
   "source": [
    "from scipy.fft import fft, fftfreq\n",
    "\n",
    "# fft to find cycles\n",
    "yf = np.absolute(fft(series))\n",
    "np.argmax(yf[int(test.train_len*0.01):int(test.train_len*0.5)]) + int(test.train_len*0.01)"
   ]
  },
  {
   "cell_type": "code",
   "execution_count": null,
   "id": "2171a89d-a1cd-43ae-a37f-0e52face81ea",
   "metadata": {},
   "outputs": [],
   "source": [
    "plt.plot(yf[100:])"
   ]
  },
  {
   "cell_type": "code",
   "execution_count": null,
   "id": "92c79c4f-ed9c-4a47-9a7f-6794c688b668",
   "metadata": {
    "tags": []
   },
   "outputs": [],
   "source": [
    "es = EarlyStopping(\n",
    "    monitor=\"val_loss\",\n",
    "    patience=5,\n",
    "    min_delta=0.0005,\n",
    "    mode='min',\n",
    ")\n",
    "\n",
    "\n",
    "pl_trainer_kwargs={\n",
    "  \"accelerator\": \"gpu\",\n",
    "  \"gpus\": [0],\n",
    "  \"callbacks\": [es]\n",
    "}\n",
    "\n",
    "model = TransformerModel(w,s, pl_trainer_kwargs=pl_trainer_kwargs)\n",
    "\n",
    "\n",
    "t_s, v_s = series[:int(test.train_len*0.95)], series[int(test.train_len*0.95):]\n",
    "\n",
    "\n",
    "model.fit(TimeSeries.from_values(t_s), \n",
    "          val_series = TimeSeries.from_values(v_s), \n",
    "          epochs=100,\n",
    "          num_loader_workers=4)"
   ]
  },
  {
   "cell_type": "code",
   "execution_count": null,
   "id": "ac2af1e9-346b-4217-b9d2-5e764ffdd723",
   "metadata": {
    "tags": []
   },
   "outputs": [],
   "source": [
    "with Progress() as progress:\n",
    "    \n",
    "    task1 = progress.add_task(\"Generating Test Set...\", total=len(test.test[0])/s)\n",
    "\n",
    "    seq = []\n",
    "    for idx, arr in enumerate(full_window.astype(np.float32)):\n",
    "        ts = TimeSeries.from_values(arr)\n",
    "        seq.append(ts)\n",
    "                \n",
    "        \n",
    "        progress.update(task1, advance=1)"
   ]
  },
  {
   "cell_type": "code",
   "execution_count": null,
   "id": "e5ce376f-eb13-4e88-b74e-eb40ee78989e",
   "metadata": {},
   "outputs": [],
   "source": [
    "p = model.predict(n=s, series=seq)"
   ]
  },
  {
   "cell_type": "code",
   "execution_count": null,
   "id": "3cc9b087-804a-4ba9-8211-77ded2bcd8b8",
   "metadata": {},
   "outputs": [],
   "source": [
    "for timestamp in p:\n",
    "    preds = np.append(preds, timestamp.pd_series().to_numpy())\n"
   ]
  },
  {
   "cell_type": "code",
   "execution_count": null,
   "id": "113fe4be-9b3c-4814-bb07-b7ca15b8d4b1",
   "metadata": {},
   "outputs": [],
   "source": [
    "len(p)"
   ]
  },
  {
   "cell_type": "code",
   "execution_count": null,
   "id": "bebbddad-495b-41d1-bd2b-d8c60e0007d5",
   "metadata": {},
   "outputs": [],
   "source": [
    "preds.shape"
   ]
  },
  {
   "cell_type": "code",
   "execution_count": null,
   "id": "c5514eda-c25e-4f10-bbda-063a422f2291",
   "metadata": {},
   "outputs": [],
   "source": [
    "len(full_window)"
   ]
  },
  {
   "cell_type": "code",
   "execution_count": null,
   "id": "913ea11e-1c7c-4568-ade6-1e62c83f1b2b",
   "metadata": {},
   "outputs": [],
   "source": [
    "preds = preds[:len(test.test[0])]"
   ]
  },
  {
   "cell_type": "code",
   "execution_count": null,
   "id": "d8c1857d-1d8a-426b-af41-61f24b264be7",
   "metadata": {},
   "outputs": [],
   "source": [
    "preds.shape"
   ]
  },
  {
   "cell_type": "code",
   "execution_count": null,
   "id": "30c792f4-6327-4017-9b0c-0851049a0f5b",
   "metadata": {},
   "outputs": [],
   "source": [
    "anom = np.absolute(preds[:len(test.test[0])] - series[test.train_len:])"
   ]
  },
  {
   "cell_type": "code",
   "execution_count": null,
   "id": "5e4dc021-1f58-46c3-84f0-525ae0d04f9b",
   "metadata": {},
   "outputs": [],
   "source": [
    "anom.argmax()"
   ]
  },
  {
   "cell_type": "code",
   "execution_count": null,
   "id": "2eda8e56-cefa-4c6b-a7ad-4a92707edf54",
   "metadata": {},
   "outputs": [],
   "source": [
    "f, (a,b) = plt.subplots(nrows=2)\n",
    "a.plot(anom)\n",
    "b.plot(test.test[1])\n",
    "#a.plot(test.test[0])"
   ]
  },
  {
   "cell_type": "code",
   "execution_count": null,
   "id": "6888dc4e-d3e9-4a62-ac86-b848a42f577b",
   "metadata": {},
   "outputs": [],
   "source": [
    "f, (a,b) = plt.subplots(nrows=2)\n",
    "a.plot(preds[:])\n",
    "b.plot(series[test.train_len:])"
   ]
  },
  {
   "cell_type": "code",
   "execution_count": null,
   "id": "24f4a7bf-12ca-4b3d-8eee-df0ef49b2e9f",
   "metadata": {},
   "outputs": [],
   "source": []
  },
  {
   "cell_type": "code",
   "execution_count": null,
   "id": "79fa7c92-2ada-47fd-bad3-aed9dad0fd37",
   "metadata": {},
   "outputs": [],
   "source": [
    "import seaborn as sns\n",
    "\n",
    "sns.histplot(anom, bins=100)"
   ]
  },
  {
   "cell_type": "code",
   "execution_count": null,
   "id": "5408ef85-eb85-4c90-b70d-845ff5c50fb9",
   "metadata": {},
   "outputs": [],
   "source": []
  }
 ],
 "metadata": {
  "kernelspec": {
   "display_name": "Python 3 (ipykernel)",
   "language": "python",
   "name": "python3"
  },
  "language_info": {
   "codemirror_mode": {
    "name": "ipython",
    "version": 3
   },
   "file_extension": ".py",
   "mimetype": "text/x-python",
   "name": "python",
   "nbconvert_exporter": "python",
   "pygments_lexer": "ipython3",
   "version": "3.9.12"
  }
 },
 "nbformat": 4,
 "nbformat_minor": 5
}
